{
 "cells": [
  {
   "cell_type": "code",
   "execution_count": 1,
   "metadata": {
    "collapsed": true
   },
   "outputs": [],
   "source": [
    "import pandas as pd\n",
    "import numpy as np\n",
    "import matplotlib.pyplot as plt\n",
    "from patsy import dmatrices\n",
    "import warnings\n",
    "warnings.filterwarnings('ignore')\n",
    "from io import StringIO\n",
    "import io\n",
    "\n",
    "%matplotlib inline"
   ]
  },
  {
   "cell_type": "code",
   "execution_count": 2,
   "metadata": {
    "collapsed": true
   },
   "outputs": [],
   "source": [
    "data = pd.read_excel('M&A_SDC.xlsx')"
   ]
  },
  {
   "cell_type": "code",
   "execution_count": 3,
   "metadata": {},
   "outputs": [
    {
     "data": {
      "text/plain": [
       "(11678, 29)"
      ]
     },
     "execution_count": 3,
     "metadata": {},
     "output_type": "execute_result"
    }
   ],
   "source": [
    "data.shape"
   ]
  },
  {
   "cell_type": "code",
   "execution_count": 4,
   "metadata": {},
   "outputs": [
    {
     "data": {
      "text/html": [
       "<div>\n",
       "<style>\n",
       "    .dataframe thead tr:only-child th {\n",
       "        text-align: right;\n",
       "    }\n",
       "\n",
       "    .dataframe thead th {\n",
       "        text-align: left;\n",
       "    }\n",
       "\n",
       "    .dataframe tbody tr th {\n",
       "        vertical-align: top;\n",
       "    }\n",
       "</style>\n",
       "<table border=\"1\" class=\"dataframe\">\n",
       "  <thead>\n",
       "    <tr style=\"text-align: right;\">\n",
       "      <th></th>\n",
       "      <th>Date\n",
       "Announced</th>\n",
       "      <th>Date\n",
       "Effective</th>\n",
       "      <th>Status</th>\n",
       "      <th>Target Name</th>\n",
       "      <th>Target Short \n",
       "Business Description</th>\n",
       "      <th>Target\n",
       "Primary\n",
       "  SIC\n",
       " Code</th>\n",
       "      <th>Target Industry Sector</th>\n",
       "      <th>Target\n",
       "Nation</th>\n",
       "      <th>Acquiror Name</th>\n",
       "      <th>Acquiror Short\n",
       "Business Description</th>\n",
       "      <th>...</th>\n",
       "      <th>Target\n",
       " EBITDA\n",
       " LTM\n",
       "($mil)</th>\n",
       "      <th>Target\n",
       "Book Value\n",
       "Per Share\n",
       "LTM (US$)</th>\n",
       "      <th>Target\n",
       "Earnings\n",
       "Per Share\n",
       "LTM (US$)</th>\n",
       "      <th>Target\n",
       "Share Price\n",
       "1 Week\n",
       "Prior to\n",
       "Announcement\n",
       "($)</th>\n",
       "      <th>Target\n",
       "Share Price\n",
       "1 Day\n",
       "Prior to\n",
       "Announcement\n",
       "($)</th>\n",
       "      <th>Target\n",
       "Closing\n",
       "Price\n",
       "At Ann\n",
       "Date ($)</th>\n",
       "      <th>Target\n",
       "Closing\n",
       "Price\n",
       "1 Day\n",
       "After Ann\n",
       "Date ($)</th>\n",
       "      <th>Shares\n",
       " Out.\n",
       "Actual\n",
       "(mil)</th>\n",
       "      <th>Ratio of\n",
       "Enterprise\n",
       "Value to\n",
       "EBIT</th>\n",
       "      <th>Acquiror Cash\n",
       " LTM\n",
       "($ mil)</th>\n",
       "    </tr>\n",
       "  </thead>\n",
       "  <tbody>\n",
       "    <tr>\n",
       "      <th>0</th>\n",
       "      <td>1990-01-03</td>\n",
       "      <td>NaT</td>\n",
       "      <td>Withdrawn</td>\n",
       "      <td>National Savings Bank,Albany</td>\n",
       "      <td>Savings bank</td>\n",
       "      <td>6035</td>\n",
       "      <td>Savings and Loans, Mutual Savings Banks</td>\n",
       "      <td>United States</td>\n",
       "      <td>TrustCo Bank Corp,NY</td>\n",
       "      <td>Bank holding company</td>\n",
       "      <td>...</td>\n",
       "      <td>5.409</td>\n",
       "      <td>23.6</td>\n",
       "      <td>2.85</td>\n",
       "      <td>28.000</td>\n",
       "      <td>28.000</td>\n",
       "      <td>30.000</td>\n",
       "      <td>28.75</td>\n",
       "      <td>1.16</td>\n",
       "      <td>104.309</td>\n",
       "      <td>NaN</td>\n",
       "    </tr>\n",
       "    <tr>\n",
       "      <th>1</th>\n",
       "      <td>1990-01-03</td>\n",
       "      <td>NaT</td>\n",
       "      <td>Dis Rumor</td>\n",
       "      <td>Paramount Communications</td>\n",
       "      <td>Entertainment,sports promotion</td>\n",
       "      <td>7822</td>\n",
       "      <td>Motion Picture Production and Distribution</td>\n",
       "      <td>United States</td>\n",
       "      <td>CBS Inc</td>\n",
       "      <td>Own,op TV,radio stations</td>\n",
       "      <td>...</td>\n",
       "      <td>309.800</td>\n",
       "      <td>30.9</td>\n",
       "      <td>0.09</td>\n",
       "      <td>57.750</td>\n",
       "      <td>59.625</td>\n",
       "      <td>62.125</td>\n",
       "      <td>63.00</td>\n",
       "      <td>116.19</td>\n",
       "      <td>np</td>\n",
       "      <td>1077.8</td>\n",
       "    </tr>\n",
       "    <tr>\n",
       "      <th>2</th>\n",
       "      <td>1990-01-03</td>\n",
       "      <td>NaT</td>\n",
       "      <td>Withdrawn</td>\n",
       "      <td>Qume Corp</td>\n",
       "      <td>Mnfr computer peripheral equip</td>\n",
       "      <td>3577</td>\n",
       "      <td>Computer and Office Equipment</td>\n",
       "      <td>United States</td>\n",
       "      <td>Investor Group</td>\n",
       "      <td>Investor group</td>\n",
       "      <td>...</td>\n",
       "      <td>5.766</td>\n",
       "      <td>4.6</td>\n",
       "      <td>0.26</td>\n",
       "      <td>5.250</td>\n",
       "      <td>5.250</td>\n",
       "      <td>6.250</td>\n",
       "      <td>6.50</td>\n",
       "      <td>11.10</td>\n",
       "      <td>39.889</td>\n",
       "      <td>NaN</td>\n",
       "    </tr>\n",
       "    <tr>\n",
       "      <th>3</th>\n",
       "      <td>1990-01-03</td>\n",
       "      <td>NaT</td>\n",
       "      <td>Intended</td>\n",
       "      <td>UAL Corp</td>\n",
       "      <td>Passenger airline</td>\n",
       "      <td>4512</td>\n",
       "      <td>Air Transportation and Shipping</td>\n",
       "      <td>United States</td>\n",
       "      <td>Investor Group</td>\n",
       "      <td>Investor group</td>\n",
       "      <td>...</td>\n",
       "      <td>981.528</td>\n",
       "      <td>17.9</td>\n",
       "      <td>3.74</td>\n",
       "      <td>181.750</td>\n",
       "      <td>164.500</td>\n",
       "      <td>210.750</td>\n",
       "      <td>219.25</td>\n",
       "      <td>NaN</td>\n",
       "      <td>np</td>\n",
       "      <td>NaN</td>\n",
       "    </tr>\n",
       "    <tr>\n",
       "      <th>4</th>\n",
       "      <td>1990-01-08</td>\n",
       "      <td>NaT</td>\n",
       "      <td>Withdrawn</td>\n",
       "      <td>ALC Communications Corp</td>\n",
       "      <td>Long distance telecomm service</td>\n",
       "      <td>4813</td>\n",
       "      <td>Telecommunications</td>\n",
       "      <td>United States</td>\n",
       "      <td>Telecom USA Inc</td>\n",
       "      <td>Provide telemarketing services</td>\n",
       "      <td>...</td>\n",
       "      <td>18.372</td>\n",
       "      <td>-28.4</td>\n",
       "      <td>-10.45</td>\n",
       "      <td>1.438</td>\n",
       "      <td>1.563</td>\n",
       "      <td>2.438</td>\n",
       "      <td>2.00</td>\n",
       "      <td>13.70</td>\n",
       "      <td>np</td>\n",
       "      <td>NaN</td>\n",
       "    </tr>\n",
       "  </tbody>\n",
       "</table>\n",
       "<p>5 rows × 29 columns</p>\n",
       "</div>"
      ],
      "text/plain": [
       "    Date\\nAnnounced   Date\\nEffective     Status  \\\n",
       "0        1990-01-03               NaT  Withdrawn   \n",
       "1        1990-01-03               NaT  Dis Rumor   \n",
       "2        1990-01-03               NaT  Withdrawn   \n",
       "3        1990-01-03               NaT   Intended   \n",
       "4        1990-01-08               NaT  Withdrawn   \n",
       "\n",
       "                    Target Name Target Short \\nBusiness Description  \\\n",
       "0  National Savings Bank,Albany                        Savings bank   \n",
       "1      Paramount Communications      Entertainment,sports promotion   \n",
       "2                     Qume Corp      Mnfr computer peripheral equip   \n",
       "3                      UAL Corp                   Passenger airline   \n",
       "4       ALC Communications Corp      Long distance telecomm service   \n",
       "\n",
       "  Target\\nPrimary\\n  SIC\\n Code                      Target Industry Sector  \\\n",
       "0                          6035     Savings and Loans, Mutual Savings Banks   \n",
       "1                          7822  Motion Picture Production and Distribution   \n",
       "2                          3577               Computer and Office Equipment   \n",
       "3                          4512             Air Transportation and Shipping   \n",
       "4                          4813                          Telecommunications   \n",
       "\n",
       "  Target\\nNation         Acquiror Name Acquiror Short\\nBusiness Description  \\\n",
       "0  United States  TrustCo Bank Corp,NY                 Bank holding company   \n",
       "1  United States               CBS Inc             Own,op TV,radio stations   \n",
       "2  United States        Investor Group                       Investor group   \n",
       "3  United States        Investor Group                       Investor group   \n",
       "4  United States       Telecom USA Inc       Provide telemarketing services   \n",
       "\n",
       "               ...              Target\\n EBITDA\\n LTM\\n($mil)  \\\n",
       "0              ...                                      5.409   \n",
       "1              ...                                    309.800   \n",
       "2              ...                                      5.766   \n",
       "3              ...                                    981.528   \n",
       "4              ...                                     18.372   \n",
       "\n",
       "  Target\\nBook Value\\nPer Share\\nLTM (US$)  \\\n",
       "0                                     23.6   \n",
       "1                                     30.9   \n",
       "2                                      4.6   \n",
       "3                                     17.9   \n",
       "4                                    -28.4   \n",
       "\n",
       "   Target\\nEarnings\\nPer Share\\nLTM (US$)  \\\n",
       "0                                    2.85   \n",
       "1                                    0.09   \n",
       "2                                    0.26   \n",
       "3                                    3.74   \n",
       "4                                  -10.45   \n",
       "\n",
       "   Target\\nShare Price\\n1 Week\\nPrior to\\nAnnouncement\\n($)  \\\n",
       "0                                             28.000          \n",
       "1                                             57.750          \n",
       "2                                              5.250          \n",
       "3                                            181.750          \n",
       "4                                              1.438          \n",
       "\n",
       "   Target\\nShare Price\\n1 Day\\nPrior to\\nAnnouncement\\n($)  \\\n",
       "0                                             28.000         \n",
       "1                                             59.625         \n",
       "2                                              5.250         \n",
       "3                                            164.500         \n",
       "4                                              1.563         \n",
       "\n",
       "  Target\\nClosing\\nPrice\\nAt Ann\\nDate ($)  \\\n",
       "0                                   30.000   \n",
       "1                                   62.125   \n",
       "2                                    6.250   \n",
       "3                                  210.750   \n",
       "4                                    2.438   \n",
       "\n",
       "   Target\\nClosing\\nPrice\\n1 Day\\nAfter Ann\\nDate ($)  \\\n",
       "0                                              28.75    \n",
       "1                                              63.00    \n",
       "2                                               6.50    \n",
       "3                                             219.25    \n",
       "4                                               2.00    \n",
       "\n",
       "   Shares\\n Out.\\nActual\\n(mil)  Ratio of\\nEnterprise\\nValue to\\nEBIT  \\\n",
       "0                          1.16                               104.309   \n",
       "1                        116.19                                    np   \n",
       "2                         11.10                                39.889   \n",
       "3                           NaN                                    np   \n",
       "4                         13.70                                    np   \n",
       "\n",
       "   Acquiror Cash\\n LTM\\n($ mil)  \n",
       "0                           NaN  \n",
       "1                        1077.8  \n",
       "2                           NaN  \n",
       "3                           NaN  \n",
       "4                           NaN  \n",
       "\n",
       "[5 rows x 29 columns]"
      ]
     },
     "execution_count": 4,
     "metadata": {},
     "output_type": "execute_result"
    }
   ],
   "source": [
    "data.head()"
   ]
  },
  {
   "cell_type": "code",
   "execution_count": 5,
   "metadata": {
    "collapsed": true
   },
   "outputs": [],
   "source": [
    "data.columns =['Date Ann', 'Date Effective', 'Status', 'Target Name',\n",
    "       'Target Description', 'Target Primary SIC Code',\n",
    "       'Target Industry', 'Target Nation', 'Acquiror Name',\n",
    "       'Acquiror Description', 'Acquiror Industry',\n",
    "       'Acquiror Nation',\n",
    "       'Acquiror Market Val 4 Weeks Prior',\n",
    "       'Acquiror Closing Price Ann',\n",
    "       'Acquiror Closing Price 1 Day After Ann', 'Synopsis',\n",
    "       '% of Shares Acq.', 'Price Per Share',\n",
    "       'Net Income LTM',\n",
    "       'Target EBITDA LTM',\n",
    "       'Target Book Value Per Share LTM',\n",
    "       'Target Earnings Per Share LTM',\n",
    "       'Target Share Price 1 Week Prior to Announcement',\n",
    "       'Target Share Price 1 Day Prior to Announcement',\n",
    "       'Target Closing Price At Ann Date',\n",
    "       'Target Closing Price 1 Day After Ann Date',\n",
    "       'Shares Out Actual', 'EV to EBIT',\n",
    "       'Acquiror Cash LTM']"
   ]
  },
  {
   "cell_type": "code",
   "execution_count": 6,
   "metadata": {
    "collapsed": true
   },
   "outputs": [],
   "source": [
    "data['Date Ann'] = pd.to_datetime(data['Date Ann'])"
   ]
  },
  {
   "cell_type": "code",
   "execution_count": 7,
   "metadata": {},
   "outputs": [
    {
     "data": {
      "text/html": [
       "<div>\n",
       "<style>\n",
       "    .dataframe thead tr:only-child th {\n",
       "        text-align: right;\n",
       "    }\n",
       "\n",
       "    .dataframe thead th {\n",
       "        text-align: left;\n",
       "    }\n",
       "\n",
       "    .dataframe tbody tr th {\n",
       "        vertical-align: top;\n",
       "    }\n",
       "</style>\n",
       "<table border=\"1\" class=\"dataframe\">\n",
       "  <thead>\n",
       "    <tr style=\"text-align: right;\">\n",
       "      <th></th>\n",
       "      <th>Date Ann</th>\n",
       "      <th>Date Effective</th>\n",
       "      <th>Status</th>\n",
       "      <th>Target Name</th>\n",
       "      <th>Target Description</th>\n",
       "      <th>Target Primary SIC Code</th>\n",
       "      <th>Target Industry</th>\n",
       "      <th>Target Nation</th>\n",
       "      <th>Acquiror Name</th>\n",
       "      <th>Acquiror Description</th>\n",
       "      <th>...</th>\n",
       "      <th>Target EBITDA LTM</th>\n",
       "      <th>Target Book Value Per Share LTM</th>\n",
       "      <th>Target Earnings Per Share LTM</th>\n",
       "      <th>Target Share Price 1 Week Prior to Announcement</th>\n",
       "      <th>Target Share Price 1 Day Prior to Announcement</th>\n",
       "      <th>Target Closing Price At Ann Date</th>\n",
       "      <th>Target Closing Price 1 Day After Ann Date</th>\n",
       "      <th>Shares Out Actual</th>\n",
       "      <th>EV to EBIT</th>\n",
       "      <th>Acquiror Cash LTM</th>\n",
       "    </tr>\n",
       "  </thead>\n",
       "  <tbody>\n",
       "    <tr>\n",
       "      <th>0</th>\n",
       "      <td>1990-01-03</td>\n",
       "      <td>NaT</td>\n",
       "      <td>Withdrawn</td>\n",
       "      <td>National Savings Bank,Albany</td>\n",
       "      <td>Savings bank</td>\n",
       "      <td>6035</td>\n",
       "      <td>Savings and Loans, Mutual Savings Banks</td>\n",
       "      <td>United States</td>\n",
       "      <td>TrustCo Bank Corp,NY</td>\n",
       "      <td>Bank holding company</td>\n",
       "      <td>...</td>\n",
       "      <td>5.409</td>\n",
       "      <td>23.6</td>\n",
       "      <td>2.85</td>\n",
       "      <td>28.000</td>\n",
       "      <td>28.000</td>\n",
       "      <td>30.000</td>\n",
       "      <td>28.75</td>\n",
       "      <td>1.16</td>\n",
       "      <td>104.309</td>\n",
       "      <td>NaN</td>\n",
       "    </tr>\n",
       "    <tr>\n",
       "      <th>1</th>\n",
       "      <td>1990-01-03</td>\n",
       "      <td>NaT</td>\n",
       "      <td>Dis Rumor</td>\n",
       "      <td>Paramount Communications</td>\n",
       "      <td>Entertainment,sports promotion</td>\n",
       "      <td>7822</td>\n",
       "      <td>Motion Picture Production and Distribution</td>\n",
       "      <td>United States</td>\n",
       "      <td>CBS Inc</td>\n",
       "      <td>Own,op TV,radio stations</td>\n",
       "      <td>...</td>\n",
       "      <td>309.800</td>\n",
       "      <td>30.9</td>\n",
       "      <td>0.09</td>\n",
       "      <td>57.750</td>\n",
       "      <td>59.625</td>\n",
       "      <td>62.125</td>\n",
       "      <td>63.00</td>\n",
       "      <td>116.19</td>\n",
       "      <td>np</td>\n",
       "      <td>1077.8</td>\n",
       "    </tr>\n",
       "    <tr>\n",
       "      <th>2</th>\n",
       "      <td>1990-01-03</td>\n",
       "      <td>NaT</td>\n",
       "      <td>Withdrawn</td>\n",
       "      <td>Qume Corp</td>\n",
       "      <td>Mnfr computer peripheral equip</td>\n",
       "      <td>3577</td>\n",
       "      <td>Computer and Office Equipment</td>\n",
       "      <td>United States</td>\n",
       "      <td>Investor Group</td>\n",
       "      <td>Investor group</td>\n",
       "      <td>...</td>\n",
       "      <td>5.766</td>\n",
       "      <td>4.6</td>\n",
       "      <td>0.26</td>\n",
       "      <td>5.250</td>\n",
       "      <td>5.250</td>\n",
       "      <td>6.250</td>\n",
       "      <td>6.50</td>\n",
       "      <td>11.10</td>\n",
       "      <td>39.889</td>\n",
       "      <td>NaN</td>\n",
       "    </tr>\n",
       "    <tr>\n",
       "      <th>3</th>\n",
       "      <td>1990-01-03</td>\n",
       "      <td>NaT</td>\n",
       "      <td>Intended</td>\n",
       "      <td>UAL Corp</td>\n",
       "      <td>Passenger airline</td>\n",
       "      <td>4512</td>\n",
       "      <td>Air Transportation and Shipping</td>\n",
       "      <td>United States</td>\n",
       "      <td>Investor Group</td>\n",
       "      <td>Investor group</td>\n",
       "      <td>...</td>\n",
       "      <td>981.528</td>\n",
       "      <td>17.9</td>\n",
       "      <td>3.74</td>\n",
       "      <td>181.750</td>\n",
       "      <td>164.500</td>\n",
       "      <td>210.750</td>\n",
       "      <td>219.25</td>\n",
       "      <td>NaN</td>\n",
       "      <td>np</td>\n",
       "      <td>NaN</td>\n",
       "    </tr>\n",
       "    <tr>\n",
       "      <th>4</th>\n",
       "      <td>1990-01-08</td>\n",
       "      <td>NaT</td>\n",
       "      <td>Withdrawn</td>\n",
       "      <td>ALC Communications Corp</td>\n",
       "      <td>Long distance telecomm service</td>\n",
       "      <td>4813</td>\n",
       "      <td>Telecommunications</td>\n",
       "      <td>United States</td>\n",
       "      <td>Telecom USA Inc</td>\n",
       "      <td>Provide telemarketing services</td>\n",
       "      <td>...</td>\n",
       "      <td>18.372</td>\n",
       "      <td>-28.4</td>\n",
       "      <td>-10.45</td>\n",
       "      <td>1.438</td>\n",
       "      <td>1.563</td>\n",
       "      <td>2.438</td>\n",
       "      <td>2.00</td>\n",
       "      <td>13.70</td>\n",
       "      <td>np</td>\n",
       "      <td>NaN</td>\n",
       "    </tr>\n",
       "  </tbody>\n",
       "</table>\n",
       "<p>5 rows × 29 columns</p>\n",
       "</div>"
      ],
      "text/plain": [
       "    Date Ann Date Effective     Status                   Target Name  \\\n",
       "0 1990-01-03            NaT  Withdrawn  National Savings Bank,Albany   \n",
       "1 1990-01-03            NaT  Dis Rumor      Paramount Communications   \n",
       "2 1990-01-03            NaT  Withdrawn                     Qume Corp   \n",
       "3 1990-01-03            NaT   Intended                      UAL Corp   \n",
       "4 1990-01-08            NaT  Withdrawn       ALC Communications Corp   \n",
       "\n",
       "               Target Description Target Primary SIC Code  \\\n",
       "0                    Savings bank                    6035   \n",
       "1  Entertainment,sports promotion                    7822   \n",
       "2  Mnfr computer peripheral equip                    3577   \n",
       "3               Passenger airline                    4512   \n",
       "4  Long distance telecomm service                    4813   \n",
       "\n",
       "                              Target Industry  Target Nation  \\\n",
       "0     Savings and Loans, Mutual Savings Banks  United States   \n",
       "1  Motion Picture Production and Distribution  United States   \n",
       "2               Computer and Office Equipment  United States   \n",
       "3             Air Transportation and Shipping  United States   \n",
       "4                          Telecommunications  United States   \n",
       "\n",
       "          Acquiror Name            Acquiror Description        ...          \\\n",
       "0  TrustCo Bank Corp,NY            Bank holding company        ...           \n",
       "1               CBS Inc        Own,op TV,radio stations        ...           \n",
       "2        Investor Group                  Investor group        ...           \n",
       "3        Investor Group                  Investor group        ...           \n",
       "4       Telecom USA Inc  Provide telemarketing services        ...           \n",
       "\n",
       "  Target EBITDA LTM Target Book Value Per Share LTM  \\\n",
       "0             5.409                            23.6   \n",
       "1           309.800                            30.9   \n",
       "2             5.766                             4.6   \n",
       "3           981.528                            17.9   \n",
       "4            18.372                           -28.4   \n",
       "\n",
       "   Target Earnings Per Share LTM  \\\n",
       "0                           2.85   \n",
       "1                           0.09   \n",
       "2                           0.26   \n",
       "3                           3.74   \n",
       "4                         -10.45   \n",
       "\n",
       "   Target Share Price 1 Week Prior to Announcement  \\\n",
       "0                                           28.000   \n",
       "1                                           57.750   \n",
       "2                                            5.250   \n",
       "3                                          181.750   \n",
       "4                                            1.438   \n",
       "\n",
       "   Target Share Price 1 Day Prior to Announcement  \\\n",
       "0                                          28.000   \n",
       "1                                          59.625   \n",
       "2                                           5.250   \n",
       "3                                         164.500   \n",
       "4                                           1.563   \n",
       "\n",
       "  Target Closing Price At Ann Date  Target Closing Price 1 Day After Ann Date  \\\n",
       "0                           30.000                                      28.75   \n",
       "1                           62.125                                      63.00   \n",
       "2                            6.250                                       6.50   \n",
       "3                          210.750                                     219.25   \n",
       "4                            2.438                                       2.00   \n",
       "\n",
       "   Shares Out Actual  EV to EBIT  Acquiror Cash LTM  \n",
       "0               1.16     104.309                NaN  \n",
       "1             116.19          np             1077.8  \n",
       "2              11.10      39.889                NaN  \n",
       "3                NaN          np                NaN  \n",
       "4              13.70          np                NaN  \n",
       "\n",
       "[5 rows x 29 columns]"
      ]
     },
     "execution_count": 7,
     "metadata": {},
     "output_type": "execute_result"
    }
   ],
   "source": [
    "#data.groupby('Acquiror Nation')['Target Nation'].count()\n",
    "data.head()"
   ]
  },
  {
   "cell_type": "code",
   "execution_count": 8,
   "metadata": {
    "scrolled": true
   },
   "outputs": [
    {
     "data": {
      "text/plain": [
       "Status\n",
       "Completed         7432\n",
       "Dis Rumor            1\n",
       "Intended            28\n",
       "Intent W            19\n",
       "Part Comp            1\n",
       "Pending            170\n",
       "S Buyer W            1\n",
       "Status Unknown      23\n",
       "Withdrawn         1518\n",
       "Name: Date Ann, dtype: int64"
      ]
     },
     "execution_count": 8,
     "metadata": {},
     "output_type": "execute_result"
    }
   ],
   "source": [
    "temp_data = data[data['Price Per Share'].notnull()]\n",
    "temp_data.groupby('Status')['Date Ann'].count()"
   ]
  },
  {
   "cell_type": "code",
   "execution_count": 9,
   "metadata": {
    "collapsed": true
   },
   "outputs": [],
   "source": [
    "# For now, only consider the ones completed and withdrawn."
   ]
  },
  {
   "cell_type": "code",
   "execution_count": 18,
   "metadata": {
    "collapsed": true
   },
   "outputs": [],
   "source": [
    "#new_data = data[data['Status'].isin(['Completed','Withdrawn'])] \n",
    "new_data = data[data['Price Per Share'].notnull()]\n",
    "new_data = new_data[new_data['Price Per Share']>1]\n",
    "new_data = new_data[-new_data['Status'].isin(['Pending'])]\n",
    "new_data['Status'] = data['Status'].apply(lambda x: x if x=='Completed' else 'Failed')"
   ]
  },
  {
   "cell_type": "code",
   "execution_count": 19,
   "metadata": {},
   "outputs": [
    {
     "name": "stdout",
     "output_type": "stream",
     "text": [
      "(8963, 29)\n"
     ]
    },
    {
     "data": {
      "text/plain": [
       "Status\n",
       "Completed    7383\n",
       "Failed       1580\n",
       "Name: Date Ann, dtype: int64"
      ]
     },
     "execution_count": 19,
     "metadata": {},
     "output_type": "execute_result"
    }
   ],
   "source": [
    "print (new_data.shape)\n",
    "new_data.groupby('Status')['Date Ann'].count()"
   ]
  },
  {
   "cell_type": "code",
   "execution_count": null,
   "metadata": {},
   "outputs": [],
   "source": []
  },
  {
   "cell_type": "code",
   "execution_count": 20,
   "metadata": {},
   "outputs": [
    {
     "data": {
      "text/html": [
       "<div>\n",
       "<style>\n",
       "    .dataframe thead tr:only-child th {\n",
       "        text-align: right;\n",
       "    }\n",
       "\n",
       "    .dataframe thead th {\n",
       "        text-align: left;\n",
       "    }\n",
       "\n",
       "    .dataframe tbody tr th {\n",
       "        vertical-align: top;\n",
       "    }\n",
       "</style>\n",
       "<table border=\"1\" class=\"dataframe\">\n",
       "  <thead>\n",
       "    <tr style=\"text-align: right;\">\n",
       "      <th></th>\n",
       "      <th>Acquiror Name</th>\n",
       "      <th>Date Ann</th>\n",
       "    </tr>\n",
       "  </thead>\n",
       "  <tbody>\n",
       "    <tr>\n",
       "      <th>488</th>\n",
       "      <td>BB&amp;T Corp</td>\n",
       "      <td>24</td>\n",
       "    </tr>\n",
       "    <tr>\n",
       "      <th>1389</th>\n",
       "      <td>Danaher Corp</td>\n",
       "      <td>20</td>\n",
       "    </tr>\n",
       "    <tr>\n",
       "      <th>1892</th>\n",
       "      <td>First Union Corp,Charlotte,NC</td>\n",
       "      <td>21</td>\n",
       "    </tr>\n",
       "    <tr>\n",
       "      <th>2613</th>\n",
       "      <td>Investor</td>\n",
       "      <td>25</td>\n",
       "    </tr>\n",
       "    <tr>\n",
       "      <th>2614</th>\n",
       "      <td>Investor Group</td>\n",
       "      <td>450</td>\n",
       "    </tr>\n",
       "    <tr>\n",
       "      <th>2711</th>\n",
       "      <td>Johnson &amp; Johnson</td>\n",
       "      <td>23</td>\n",
       "    </tr>\n",
       "    <tr>\n",
       "      <th>3612</th>\n",
       "      <td>Oracle Corp</td>\n",
       "      <td>23</td>\n",
       "    </tr>\n",
       "    <tr>\n",
       "      <th>4338</th>\n",
       "      <td>Shareholders</td>\n",
       "      <td>43</td>\n",
       "    </tr>\n",
       "  </tbody>\n",
       "</table>\n",
       "</div>"
      ],
      "text/plain": [
       "                      Acquiror Name  Date Ann\n",
       "488                       BB&T Corp        24\n",
       "1389                   Danaher Corp        20\n",
       "1892  First Union Corp,Charlotte,NC        21\n",
       "2613                       Investor        25\n",
       "2614                 Investor Group       450\n",
       "2711              Johnson & Johnson        23\n",
       "3612                    Oracle Corp        23\n",
       "4338                   Shareholders        43"
      ]
     },
     "execution_count": 20,
     "metadata": {},
     "output_type": "execute_result"
    }
   ],
   "source": [
    "temp = new_data.groupby('Acquiror Name')['Date Ann'].count().reset_index()\n",
    "\n",
    "# It is very unlikedly that one company bought more then 30 public companies. Looking at the data, some Acquirors\n",
    "# are \"Investors\" or \"Creditors\". This should be taken into account when using Acquiror Name as dependent\n",
    "# One potential alternative is to label Acquiror's into different categories. ie: frequent buyers, first time buyer,\n",
    "# Investor, creditor, insider etc.\n",
    "temp[temp['Date Ann'] >= 20]"
   ]
  },
  {
   "cell_type": "code",
   "execution_count": 21,
   "metadata": {
    "scrolled": true
   },
   "outputs": [
    {
     "data": {
      "text/html": [
       "<div>\n",
       "<style>\n",
       "    .dataframe thead tr:only-child th {\n",
       "        text-align: right;\n",
       "    }\n",
       "\n",
       "    .dataframe thead th {\n",
       "        text-align: left;\n",
       "    }\n",
       "\n",
       "    .dataframe tbody tr th {\n",
       "        vertical-align: top;\n",
       "    }\n",
       "</style>\n",
       "<table border=\"1\" class=\"dataframe\">\n",
       "  <thead>\n",
       "    <tr style=\"text-align: right;\">\n",
       "      <th></th>\n",
       "      <th>Target Industry</th>\n",
       "      <th>Date Ann</th>\n",
       "    </tr>\n",
       "  </thead>\n",
       "  <tbody>\n",
       "    <tr>\n",
       "      <th>7</th>\n",
       "      <td>Commercial Banks, Bank Holding Companies</td>\n",
       "      <td>1104</td>\n",
       "    </tr>\n",
       "    <tr>\n",
       "      <th>5</th>\n",
       "      <td>Business Services</td>\n",
       "      <td>770</td>\n",
       "    </tr>\n",
       "    <tr>\n",
       "      <th>47</th>\n",
       "      <td>Savings and Loans, Mutual Savings Banks</td>\n",
       "      <td>518</td>\n",
       "    </tr>\n",
       "    <tr>\n",
       "      <th>35</th>\n",
       "      <td>Prepackaged Software</td>\n",
       "      <td>507</td>\n",
       "    </tr>\n",
       "    <tr>\n",
       "      <th>25</th>\n",
       "      <td>Measuring, Medical, Photo Equipment; Clocks</td>\n",
       "      <td>467</td>\n",
       "    </tr>\n",
       "    <tr>\n",
       "      <th>21</th>\n",
       "      <td>Investment &amp; Commodity Firms,Dealers,Exchanges</td>\n",
       "      <td>440</td>\n",
       "    </tr>\n",
       "    <tr>\n",
       "      <th>15</th>\n",
       "      <td>Electronic and Electrical Equipment</td>\n",
       "      <td>365</td>\n",
       "    </tr>\n",
       "    <tr>\n",
       "      <th>12</th>\n",
       "      <td>Drugs</td>\n",
       "      <td>355</td>\n",
       "    </tr>\n",
       "    <tr>\n",
       "      <th>31</th>\n",
       "      <td>Oil and Gas; Petroleum Refining</td>\n",
       "      <td>287</td>\n",
       "    </tr>\n",
       "    <tr>\n",
       "      <th>20</th>\n",
       "      <td>Insurance</td>\n",
       "      <td>279</td>\n",
       "    </tr>\n",
       "    <tr>\n",
       "      <th>17</th>\n",
       "      <td>Health Services</td>\n",
       "      <td>257</td>\n",
       "    </tr>\n",
       "    <tr>\n",
       "      <th>14</th>\n",
       "      <td>Electric, Gas, and Water Distribution</td>\n",
       "      <td>221</td>\n",
       "    </tr>\n",
       "    <tr>\n",
       "      <th>24</th>\n",
       "      <td>Machinery</td>\n",
       "      <td>195</td>\n",
       "    </tr>\n",
       "    <tr>\n",
       "      <th>51</th>\n",
       "      <td>Telecommunications</td>\n",
       "      <td>192</td>\n",
       "    </tr>\n",
       "    <tr>\n",
       "      <th>9</th>\n",
       "      <td>Computer and Office Equipment</td>\n",
       "      <td>178</td>\n",
       "    </tr>\n",
       "    <tr>\n",
       "      <th>26</th>\n",
       "      <td>Metal and Metal Products</td>\n",
       "      <td>174</td>\n",
       "    </tr>\n",
       "    <tr>\n",
       "      <th>29</th>\n",
       "      <td>Miscellaneous Retail Trade</td>\n",
       "      <td>161</td>\n",
       "    </tr>\n",
       "    <tr>\n",
       "      <th>8</th>\n",
       "      <td>Communications Equipment</td>\n",
       "      <td>157</td>\n",
       "    </tr>\n",
       "    <tr>\n",
       "      <th>56</th>\n",
       "      <td>Wholesale Trade-Durable Goods</td>\n",
       "      <td>145</td>\n",
       "    </tr>\n",
       "    <tr>\n",
       "      <th>16</th>\n",
       "      <td>Food and Kindred Products</td>\n",
       "      <td>135</td>\n",
       "    </tr>\n",
       "    <tr>\n",
       "      <th>55</th>\n",
       "      <td>Transportation and Shipping (except air)</td>\n",
       "      <td>127</td>\n",
       "    </tr>\n",
       "    <tr>\n",
       "      <th>41</th>\n",
       "      <td>Retail Trade-Eating and Drinking Places</td>\n",
       "      <td>121</td>\n",
       "    </tr>\n",
       "    <tr>\n",
       "      <th>38</th>\n",
       "      <td>Radio and Television Broadcasting Stations</td>\n",
       "      <td>118</td>\n",
       "    </tr>\n",
       "    <tr>\n",
       "      <th>6</th>\n",
       "      <td>Chemicals and Allied Products</td>\n",
       "      <td>108</td>\n",
       "    </tr>\n",
       "    <tr>\n",
       "      <th>19</th>\n",
       "      <td>Hotels and Casinos</td>\n",
       "      <td>108</td>\n",
       "    </tr>\n",
       "    <tr>\n",
       "      <th>39</th>\n",
       "      <td>Real Estate; Mortgage Bankers and Brokers</td>\n",
       "      <td>107</td>\n",
       "    </tr>\n",
       "    <tr>\n",
       "      <th>43</th>\n",
       "      <td>Retail Trade-General Merchandise and Apparel</td>\n",
       "      <td>85</td>\n",
       "    </tr>\n",
       "    <tr>\n",
       "      <th>54</th>\n",
       "      <td>Transportation Equipment</td>\n",
       "      <td>73</td>\n",
       "    </tr>\n",
       "    <tr>\n",
       "      <th>45</th>\n",
       "      <td>Rubber and Miscellaneous Plastic Products</td>\n",
       "      <td>71</td>\n",
       "    </tr>\n",
       "    <tr>\n",
       "      <th>57</th>\n",
       "      <td>Wholesale Trade-Nondurable Goods</td>\n",
       "      <td>71</td>\n",
       "    </tr>\n",
       "    <tr>\n",
       "      <th>52</th>\n",
       "      <td>Textile and Apparel Products</td>\n",
       "      <td>68</td>\n",
       "    </tr>\n",
       "    <tr>\n",
       "      <th>11</th>\n",
       "      <td>Credit Institutions</td>\n",
       "      <td>68</td>\n",
       "    </tr>\n",
       "    <tr>\n",
       "      <th>36</th>\n",
       "      <td>Printing, Publishing, and Allied Services</td>\n",
       "      <td>68</td>\n",
       "    </tr>\n",
       "    <tr>\n",
       "      <th>28</th>\n",
       "      <td>Miscellaneous Manufacturing</td>\n",
       "      <td>66</td>\n",
       "    </tr>\n",
       "    <tr>\n",
       "      <th>30</th>\n",
       "      <td>Motion Picture Production and Distribution</td>\n",
       "      <td>64</td>\n",
       "    </tr>\n",
       "    <tr>\n",
       "      <th>27</th>\n",
       "      <td>Mining</td>\n",
       "      <td>63</td>\n",
       "    </tr>\n",
       "    <tr>\n",
       "      <th>10</th>\n",
       "      <td>Construction Firms</td>\n",
       "      <td>61</td>\n",
       "    </tr>\n",
       "    <tr>\n",
       "      <th>33</th>\n",
       "      <td>Paper and Allied Products</td>\n",
       "      <td>59</td>\n",
       "    </tr>\n",
       "    <tr>\n",
       "      <th>42</th>\n",
       "      <td>Retail Trade-Food Stores</td>\n",
       "      <td>50</td>\n",
       "    </tr>\n",
       "    <tr>\n",
       "      <th>46</th>\n",
       "      <td>Sanitary Services</td>\n",
       "      <td>42</td>\n",
       "    </tr>\n",
       "    <tr>\n",
       "      <th>58</th>\n",
       "      <td>Wood Products, Furniture, and Fixtures</td>\n",
       "      <td>42</td>\n",
       "    </tr>\n",
       "    <tr>\n",
       "      <th>3</th>\n",
       "      <td>Air Transportation and Shipping</td>\n",
       "      <td>42</td>\n",
       "    </tr>\n",
       "    <tr>\n",
       "      <th>48</th>\n",
       "      <td>Soaps, Cosmetics, and Personal-Care Products</td>\n",
       "      <td>41</td>\n",
       "    </tr>\n",
       "    <tr>\n",
       "      <th>4</th>\n",
       "      <td>Amusement and Recreation Services</td>\n",
       "      <td>41</td>\n",
       "    </tr>\n",
       "    <tr>\n",
       "      <th>44</th>\n",
       "      <td>Retail Trade-Home Furnishings</td>\n",
       "      <td>40</td>\n",
       "    </tr>\n",
       "    <tr>\n",
       "      <th>1</th>\n",
       "      <td>Aerospace and Aircraft</td>\n",
       "      <td>38</td>\n",
       "    </tr>\n",
       "    <tr>\n",
       "      <th>50</th>\n",
       "      <td>Stone, Clay, Glass, and Concrete Products</td>\n",
       "      <td>35</td>\n",
       "    </tr>\n",
       "    <tr>\n",
       "      <th>0</th>\n",
       "      <td>Advertising Services</td>\n",
       "      <td>30</td>\n",
       "    </tr>\n",
       "    <tr>\n",
       "      <th>13</th>\n",
       "      <td>Educational Services</td>\n",
       "      <td>26</td>\n",
       "    </tr>\n",
       "    <tr>\n",
       "      <th>2</th>\n",
       "      <td>Agriculture, Forestry, and Fishing</td>\n",
       "      <td>24</td>\n",
       "    </tr>\n",
       "    <tr>\n",
       "      <th>34</th>\n",
       "      <td>Personal Services</td>\n",
       "      <td>23</td>\n",
       "    </tr>\n",
       "    <tr>\n",
       "      <th>40</th>\n",
       "      <td>Repair Services</td>\n",
       "      <td>22</td>\n",
       "    </tr>\n",
       "    <tr>\n",
       "      <th>22</th>\n",
       "      <td>Leather and Leather Products</td>\n",
       "      <td>20</td>\n",
       "    </tr>\n",
       "    <tr>\n",
       "      <th>32</th>\n",
       "      <td>Other Financial</td>\n",
       "      <td>17</td>\n",
       "    </tr>\n",
       "    <tr>\n",
       "      <th>49</th>\n",
       "      <td>Social Services</td>\n",
       "      <td>9</td>\n",
       "    </tr>\n",
       "    <tr>\n",
       "      <th>53</th>\n",
       "      <td>Tobacco Products</td>\n",
       "      <td>4</td>\n",
       "    </tr>\n",
       "    <tr>\n",
       "      <th>18</th>\n",
       "      <td>Holding Companies, Except Banks</td>\n",
       "      <td>2</td>\n",
       "    </tr>\n",
       "    <tr>\n",
       "      <th>23</th>\n",
       "      <td>Legal Services</td>\n",
       "      <td>1</td>\n",
       "    </tr>\n",
       "    <tr>\n",
       "      <th>37</th>\n",
       "      <td>Public Administration</td>\n",
       "      <td>1</td>\n",
       "    </tr>\n",
       "  </tbody>\n",
       "</table>\n",
       "</div>"
      ],
      "text/plain": [
       "                                   Target Industry  Date Ann\n",
       "7         Commercial Banks, Bank Holding Companies      1104\n",
       "5                                Business Services       770\n",
       "47         Savings and Loans, Mutual Savings Banks       518\n",
       "35                            Prepackaged Software       507\n",
       "25     Measuring, Medical, Photo Equipment; Clocks       467\n",
       "21  Investment & Commodity Firms,Dealers,Exchanges       440\n",
       "15             Electronic and Electrical Equipment       365\n",
       "12                                           Drugs       355\n",
       "31                 Oil and Gas; Petroleum Refining       287\n",
       "20                                       Insurance       279\n",
       "17                                 Health Services       257\n",
       "14           Electric, Gas, and Water Distribution       221\n",
       "24                                       Machinery       195\n",
       "51                              Telecommunications       192\n",
       "9                    Computer and Office Equipment       178\n",
       "26                        Metal and Metal Products       174\n",
       "29                      Miscellaneous Retail Trade       161\n",
       "8                         Communications Equipment       157\n",
       "56                   Wholesale Trade-Durable Goods       145\n",
       "16                       Food and Kindred Products       135\n",
       "55        Transportation and Shipping (except air)       127\n",
       "41         Retail Trade-Eating and Drinking Places       121\n",
       "38      Radio and Television Broadcasting Stations       118\n",
       "6                    Chemicals and Allied Products       108\n",
       "19                              Hotels and Casinos       108\n",
       "39       Real Estate; Mortgage Bankers and Brokers       107\n",
       "43    Retail Trade-General Merchandise and Apparel        85\n",
       "54                        Transportation Equipment        73\n",
       "45       Rubber and Miscellaneous Plastic Products        71\n",
       "57                Wholesale Trade-Nondurable Goods        71\n",
       "52                    Textile and Apparel Products        68\n",
       "11                             Credit Institutions        68\n",
       "36       Printing, Publishing, and Allied Services        68\n",
       "28                     Miscellaneous Manufacturing        66\n",
       "30      Motion Picture Production and Distribution        64\n",
       "27                                          Mining        63\n",
       "10                              Construction Firms        61\n",
       "33                       Paper and Allied Products        59\n",
       "42                        Retail Trade-Food Stores        50\n",
       "46                               Sanitary Services        42\n",
       "58          Wood Products, Furniture, and Fixtures        42\n",
       "3                  Air Transportation and Shipping        42\n",
       "48    Soaps, Cosmetics, and Personal-Care Products        41\n",
       "4                Amusement and Recreation Services        41\n",
       "44                   Retail Trade-Home Furnishings        40\n",
       "1                           Aerospace and Aircraft        38\n",
       "50       Stone, Clay, Glass, and Concrete Products        35\n",
       "0                             Advertising Services        30\n",
       "13                            Educational Services        26\n",
       "2               Agriculture, Forestry, and Fishing        24\n",
       "34                               Personal Services        23\n",
       "40                                 Repair Services        22\n",
       "22                    Leather and Leather Products        20\n",
       "32                                 Other Financial        17\n",
       "49                                 Social Services         9\n",
       "53                                Tobacco Products         4\n",
       "18                 Holding Companies, Except Banks         2\n",
       "23                                  Legal Services         1\n",
       "37                           Public Administration         1"
      ]
     },
     "execution_count": 21,
     "metadata": {},
     "output_type": "execute_result"
    }
   ],
   "source": [
    "new_data.groupby('Target Industry')['Date Ann'].count().reset_index().sort_values(by='Date Ann', ascending = False)\n",
    "# Commercial Banks are most likely the target, while public administration and legal service are least likely"
   ]
  },
  {
   "cell_type": "code",
   "execution_count": 73,
   "metadata": {
    "collapsed": true
   },
   "outputs": [],
   "source": [
    "def true_false(x):\n",
    "    if x == True:\n",
    "        return (1)\n",
    "    elif x == False:\n",
    "        return (0)\n",
    "    else:\n",
    "        return x\n",
    "def to_num(x):\n",
    "    if x == 'Completed':\n",
    "        return (1)\n",
    "    else:\n",
    "        return (0)\n",
    "    \n",
    "def clean_data(x):\n",
    "    if isinstance(x, float) == True:\n",
    "        return (x)\n",
    "    elif isinstance(x, int) == True:\n",
    "        return (x)\n",
    "    else:\n",
    "        return (0)\n",
    "    \n",
    "def find_ff_ind(x):\n",
    "    try: x = int(x)\n",
    "    except: return (30)\n",
    "    a = sic[(sic['sic1']<= x)& (sic['sic2']>=x)]['ff30']\n",
    "    try: \n",
    "        a = int(a)\n",
    "    except: \n",
    "        #print (a)\n",
    "        return (30)\n",
    "    return (a)"
   ]
  },
  {
   "cell_type": "code",
   "execution_count": null,
   "metadata": {
    "collapsed": true
   },
   "outputs": [],
   "source": []
  },
  {
   "cell_type": "code",
   "execution_count": 23,
   "metadata": {
    "collapsed": true
   },
   "outputs": [],
   "source": [
    "# Time region characteristic\n",
    "\n",
    "president = {1990: 'R',1991:'R',1992:'R',1993:'D',1994:'D',1995:'D',1996:'D',1997:'D',1998:'D',1999:'D',2000:'D',\n",
    "              2001:'R',2002:'R',2003:'R',2004:'R',2005:'R',2006:'R',2007:'R',2008:'R',2009:'D',2010:'D',2011:'D',\n",
    "              2012:'D',2013:'D',2014:'D',2015:'D',2016:'D',2017:'R'}\n",
    "new_data['president'] = new_data['Date Ann'].dt.year.apply(lambda x: president[x])\n",
    "new_data['Democrat'] = new_data['president'].apply(lambda x: 1 if x == 'D' else 0)\n",
    "new_data = new_data.drop('president',axis=1)"
   ]
  },
  {
   "cell_type": "code",
   "execution_count": 76,
   "metadata": {},
   "outputs": [],
   "source": [
    "# Deal characteristics\n",
    "temp = new_data.groupby('Acquiror Name')['Date Ann'].count().reset_index()\n",
    "temp['First Time'] = (temp['Date Ann'] == 1)\n",
    "temp['Experienced'] = (temp['Date Ann'].between(2,10))\n",
    "temp['Frequent'] = (temp['Date Ann'].between(11,25))\n",
    "acq_name = list(temp[temp['Date Ann'] > 25]['Acquiror Name'])\n",
    "for acq in acq_name:\n",
    "    temp.loc[:, acq] = temp['Acquiror Name'].apply(lambda x: 1 if x == acq else 0)\n",
    "temp = temp.drop('Date Ann', axis=1)\n",
    "\n",
    "new_data = new_data.merge(temp, how = 'left',on='Acquiror Name')\n",
    "\n",
    "new_data.loc[:,'nation diff'] = (new_data['Target Nation'] == new_data['Acquiror Nation'])\n",
    "\n",
    "# This needs to be changed to fama industry classification\n",
    "new_data.loc[:,'industry diff'] = (new_data['Target Industry'] == new_data['Acquiror Industry'])\n",
    "\n",
    "sic = pd.read_csv('Siccodes30.csv')\n",
    "new_data['fama_ind'] = new_data['Target Primary SIC Code'].apply(lambda x: find_ff_ind(x))\n",
    "new_data.groupby('fama_ind')['fama_ind'].count()\n",
    "\n",
    "ind_list = list(set(new_data['fama_ind']))\n",
    "\n",
    "for industry in ind_list:\n",
    "    new_data.loc[:, industry] = new_data['fama_ind'].apply(lambda x: 1 if int(x) == int(industry) else 0)\n",
    "#nation_list = list(set(new_data['Acquiror Nation']))\n",
    "#for nation in nation_list:\n",
    "#    new_data.loc[:, nation] = new_data['Acquiror Nation'].apply(lambda x: 1 if x == nation else 0)"
   ]
  },
  {
   "cell_type": "code",
   "execution_count": 25,
   "metadata": {
    "collapsed": true
   },
   "outputs": [],
   "source": [
    "#new_data[new_data[1]==1]"
   ]
  },
  {
   "cell_type": "code",
   "execution_count": 26,
   "metadata": {
    "collapsed": true
   },
   "outputs": [],
   "source": [
    "# % of share is based on sucess/failure\n",
    "#new_data['% share'] = new_data['% of Shares Acq.']\n",
    "#new_data['total cost'] = new_data['% of Shares Acq.'] * new_data['Price Per Share'] * new_data['Shares Out Actual']"
   ]
  },
  {
   "cell_type": "code",
   "execution_count": 77,
   "metadata": {
    "collapsed": true
   },
   "outputs": [],
   "source": [
    "# Valuation Ratios\n",
    "new_data['cap'] = new_data['Price Per Share'] * new_data['Shares Out Actual']\n",
    "new_data['cap_diff'] = new_data['Acquiror Market Val 4 Weeks Prior'] - new_data['cap']\n",
    "new_data['Offer EP'] =  new_data['Target Earnings Per Share LTM'] / new_data['Price Per Share'] \n",
    "new_data['Past EP'] =  new_data['Target Earnings Per Share LTM']/new_data['Target Share Price 1 Day Prior to Announcement'] \n",
    "\n",
    "new_data['Offer BP'] = new_data['Target Book Value Per Share LTM'] / new_data['Price Per Share']\n",
    "new_data['Past BP'] =  new_data['Target Book Value Per Share LTM'] / new_data['Target Share Price 1 Day Prior to Announcement'] \n",
    "\n",
    "new_data['Offer/Current Price Diff'] = (new_data['Target Closing Price 1 Day After Ann Date'] / new_data['Price Per Share'])-1\n",
    "new_data.loc[:,'price premium'] = (new_data['Price Per Share'] / new_data['Target Share Price 1 Day Prior to Announcement'])-1"
   ]
  },
  {
   "cell_type": "code",
   "execution_count": 78,
   "metadata": {
    "collapsed": true
   },
   "outputs": [],
   "source": [
    "new_data = new_data.applymap(true_false)\n",
    "new_data['new_Status'] = new_data['Status'].apply(to_num)\n",
    "# Many NaNs"
   ]
  },
  {
   "cell_type": "code",
   "execution_count": 79,
   "metadata": {},
   "outputs": [
    {
     "data": {
      "image/png": "[encoded data removed]",
      "text/plain": [
       "<matplotlib.figure.Figure at 0x114d8fd30>"
      ]
     },
     "metadata": {},
     "output_type": "display_data"
    }
   ],
   "source": [
    "plt.figure(figsize=(20,10))\n",
    "plt.subplot(321)\n",
    "plt.hist(new_data[new_data['Offer/Current Price Diff']<1]['Offer/Current Price Diff'], bins=50)\n",
    "plt.title('Offer/Current Price Diff')\n",
    "\n",
    "plt.subplot(322)\n",
    "plt.hist(new_data[new_data['price premium']<4]['price premium'], bins = 50)\n",
    "plt.title('Price Premium')\n",
    "\n",
    "\n",
    "plt.subplot(323)\n",
    "plt.hist(new_data[new_data['cap_diff']<100000]['cap_diff'], bins = 50)\n",
    "plt.title('Cap Diff')\n",
    "\n",
    "temp = new_data.groupby('Acquiror Name')['Date Ann'].count().reset_index()\n",
    "plt.subplot(324)\n",
    "plt.hist(temp[temp['Date Ann']<=20]['Date Ann'], bins = 20)\n",
    "plt.title('Buyer Experience')\n",
    "\n",
    "plt.subplot(325)\n",
    "plt.hist(new_data[new_data['Offer EP'].between(-1,1)]['Offer EP'], bins = 50)\n",
    "plt.title('Offer EP')\n",
    "\n",
    "plt.subplot(326)\n",
    "plt.hist(new_data[new_data['Offer BP'].between(-2,2)]['Offer BP'], bins = 50)\n",
    "plt.title('Offer BP')\n",
    "\n",
    "plt.show()"
   ]
  },
  {
   "cell_type": "code",
   "execution_count": 80,
   "metadata": {},
   "outputs": [
    {
     "data": {
      "text/plain": [
       "1586"
      ]
     },
     "execution_count": 80,
     "metadata": {},
     "output_type": "execute_result"
    }
   ],
   "source": [
    "sum(new_data['% of Shares Acq.'].isnull())"
   ]
  },
  {
   "cell_type": "code",
   "execution_count": null,
   "metadata": {
    "collapsed": true
   },
   "outputs": [],
   "source": []
  },
  {
   "cell_type": "code",
   "execution_count": 140,
   "metadata": {
    "collapsed": true
   },
   "outputs": [],
   "source": [
    "# Split Train, Val, Test data\n",
    "\n",
    "#test_data = new_data[new_data['Date Ann']> '2015']\n",
    "#val_data = new_data[(new_data['Date Ann'].between('2013','2015'))]\n",
    "#train_data = new_data[new_data['Date Ann']< '2013']\n",
    "\n",
    "#print (test_data.shape)\n",
    "#print (val_data.shape)\n",
    "#print (train_data.shape)"
   ]
  },
  {
   "cell_type": "code",
   "execution_count": 81,
   "metadata": {
    "collapsed": true
   },
   "outputs": [],
   "source": [
    "from sklearn.model_selection import train_test_split\n",
    "model_data = new_data.iloc[:,27:].applymap(clean_data).fillna(0)\n",
    "train_data, test_data = train_test_split(model_data, test_size=0.1, random_state=None)\n",
    "\n",
    "y = train_data['new_Status']\n",
    "x = train_data.drop('new_Status',axis=1)\n",
    "\n",
    "x_new = test_data.drop('new_Status',axis=1)"
   ]
  },
  {
   "cell_type": "code",
   "execution_count": null,
   "metadata": {
    "collapsed": true
   },
   "outputs": [],
   "source": []
  },
  {
   "cell_type": "code",
   "execution_count": null,
   "metadata": {
    "collapsed": true
   },
   "outputs": [],
   "source": [
    "#train_data = train_data[train_data['price premium'] != np.nan]\n",
    "#train_data = train_data[train_data['price premium'] != np.nan]"
   ]
  },
  {
   "cell_type": "code",
   "execution_count": 82,
   "metadata": {},
   "outputs": [
    {
     "data": {
      "text/plain": [
       "0.82497212931995545"
      ]
     },
     "execution_count": 82,
     "metadata": {},
     "output_type": "execute_result"
    }
   ],
   "source": [
    "from sklearn import linear_model\n",
    "log = linear_model.LogisticRegression('l1',C=0.001,tol=5.5 )#,class_weight= 'balanced')\n",
    "\n",
    "log.fit(x, y)\n",
    "\n",
    "y_pred = log.predict(x_new)\n",
    "y_new = test_data['new_Status']\n",
    "\n",
    "score = log.score(x_new, y_new)\n",
    "score"
   ]
  },
  {
   "cell_type": "code",
   "execution_count": 83,
   "metadata": {},
   "outputs": [
    {
     "data": {
      "text/plain": [
       "array([[ -1.81816325e-05,   1.23297440e-05,   0.00000000e+00,\n",
       "          0.00000000e+00,   0.00000000e+00,   0.00000000e+00,\n",
       "          0.00000000e+00,   0.00000000e+00,   0.00000000e+00,\n",
       "          4.22846766e-01,   3.18050064e-06,   7.81101856e-09,\n",
       "         -1.54461075e-05,   6.71212637e-06,   0.00000000e+00,\n",
       "          7.24884848e-06,   0.00000000e+00,   0.00000000e+00,\n",
       "          1.05369989e-01,   9.16207706e-02,   0.00000000e+00,\n",
       "          0.00000000e+00,   0.00000000e+00,   0.00000000e+00,\n",
       "          0.00000000e+00,   0.00000000e+00,   0.00000000e+00,\n",
       "          0.00000000e+00,   4.03607505e-02,   0.00000000e+00,\n",
       "          0.00000000e+00,   0.00000000e+00,   0.00000000e+00,\n",
       "          0.00000000e+00,   0.00000000e+00,   0.00000000e+00,\n",
       "          0.00000000e+00,   0.00000000e+00,   0.00000000e+00,\n",
       "          0.00000000e+00,   0.00000000e+00,   0.00000000e+00,\n",
       "          0.00000000e+00,   0.00000000e+00,   0.00000000e+00,\n",
       "          0.00000000e+00,   0.00000000e+00,   0.00000000e+00,\n",
       "          0.00000000e+00,   0.00000000e+00,   0.00000000e+00,\n",
       "          0.00000000e+00,   0.00000000e+00,   0.00000000e+00,\n",
       "          0.00000000e+00,   0.00000000e+00,   0.00000000e+00,\n",
       "          0.00000000e+00,   0.00000000e+00]])"
      ]
     },
     "execution_count": 83,
     "metadata": {},
     "output_type": "execute_result"
    }
   ],
   "source": [
    "log.coef_"
   ]
  },
  {
   "cell_type": "code",
   "execution_count": null,
   "metadata": {
    "collapsed": true
   },
   "outputs": [],
   "source": [
    "new_data['year'] = new_data['Date Ann'].dt.year\n",
    "year = new_data.groupby('year')\n",
    "plt.plot(year['new_Status'].sum() / year['new_Status'].count())"
   ]
  },
  {
   "cell_type": "code",
   "execution_count": 110,
   "metadata": {},
   "outputs": [
    {
     "data": {
      "text/plain": [
       "0.8294314381270903"
      ]
     },
     "execution_count": 110,
     "metadata": {},
     "output_type": "execute_result"
    }
   ],
   "source": [
    "from sklearn.ensemble import RandomForestClassifier\n",
    "clf = RandomForestClassifier(n_estimators = 40, max_depth=30 ,max_features='auto' ,\n",
    "                             random_state=None, criterion='entropy', min_samples_split=8 )#,class_weight='balanced')\n",
    "\n",
    "clf.fit(x, y)\n",
    "\n",
    "y_pred = clf.predict(x_new)\n",
    "y_new = test_data['new_Status']\n",
    "\n",
    "score = clf.score(x_new, y_new)\n",
    "score"
   ]
  },
  {
   "cell_type": "code",
   "execution_count": 111,
   "metadata": {},
   "outputs": [
    {
     "name": "stdout",
     "output_type": "stream",
     "text": [
      "0.82497212932\n",
      "0.975473801561\n"
     ]
    }
   ],
   "source": [
    "print (y_new.sum() / len(y_new))\n",
    "print (y_pred.sum()/len(y_pred))"
   ]
  },
  {
   "cell_type": "code",
   "execution_count": 165,
   "metadata": {},
   "outputs": [
    {
     "data": {
      "text/plain": [
       "'EV to EBIT'"
      ]
     },
     "execution_count": 165,
     "metadata": {},
     "output_type": "execute_result"
    }
   ],
   "source": [
    "x.columns[0]"
   ]
  },
  {
   "cell_type": "code",
   "execution_count": 65,
   "metadata": {},
   "outputs": [
    {
     "name": "stdout",
     "output_type": "stream",
     "text": [
      "[ 0.07663398  0.05751479  0.00892889  0.00738064  0.00588377  0.00518396\n",
      "  0.01406371  0.00053638  0.00743035  0.01042049  0.11079739  0.11430557\n",
      "  0.07083797  0.06813082  0.08315011  0.08233002  0.17113057  0.10534058]\n"
     ]
    }
   ],
   "source": [
    "print(clf.feature_importances_)"
   ]
  },
  {
   "cell_type": "code",
   "execution_count": 112,
   "metadata": {
    "scrolled": true
   },
   "outputs": [
    {
     "name": "stdout",
     "output_type": "stream",
     "text": [
      "Feature ranking:\n",
      "feature Offer/Current Price Diff 0.129320657771\n",
      "feature cap_diff 0.0844441447477\n",
      "feature cap 0.082867664965\n",
      "feature price premium 0.0799699708999\n",
      "feature Offer BP 0.0797530170005\n",
      "feature Past BP 0.0779923354397\n",
      "feature Past EP 0.0725161183089\n",
      "feature Offer EP 0.0716869593488\n",
      "feature EV to EBIT 0.0622951460545\n",
      "feature Acquiror Cash LTM 0.0523091564412\n",
      "feature fama_ind 0.0347467212515\n",
      "feature industry diff 0.0121739210172\n",
      "feature Democrat 0.0117744400477\n",
      "feature 29 0.00960084638133\n"
     ]
    },
    {
     "data": {
      "image/png": "[encoded data removed]",
      "text/plain": [
       "<matplotlib.figure.Figure at 0x114439828>"
      ]
     },
     "metadata": {},
     "output_type": "display_data"
    }
   ],
   "source": [
    "importances = clf.feature_importances_\n",
    "std = np.std([tree.feature_importances_ for tree in clf.estimators_],\n",
    "             axis=0)\n",
    "indices = np.argsort(importances)[::-1]\n",
    "\n",
    "# Print the feature ranking\n",
    "print(\"Feature ranking:\")\n",
    "\n",
    "count = 0\n",
    "for f in range(x.shape[1]):\n",
    "    count +=1\n",
    "    print(\"feature\" , x.columns[int(indices[f])] , importances[indices[f]])\n",
    "    if importances[indices[f]]<0.01:\n",
    "        break\n",
    "\n",
    "count = 15\n",
    "# Plot the feature importances of the forest\n",
    "plt.figure()\n",
    "plt.title(\"Feature importances\")\n",
    "plt.bar(range(count), importances[indices[:count]],\n",
    "       color=\"r\", yerr=std[indices[:count]], align=\"center\")\n",
    "#plt.xticks(range(x.shape[1]), indices)\n",
    "#plt.xlim([-1, x.shape[1]])\n",
    "plt.show()"
   ]
  },
  {
   "cell_type": "code",
   "execution_count": 29,
   "metadata": {
    "collapsed": true
   },
   "outputs": [],
   "source": [
    "from sklearn import tree\n",
    "from sklearn import metrics\n",
    "\n",
    "model = tree.DecisionTreeClassifier(criterion='entropy',max_depth=4)"
   ]
  },
  {
   "cell_type": "code",
   "execution_count": 30,
   "metadata": {},
   "outputs": [
    {
     "data": {
      "text/plain": [
       "DecisionTreeClassifier(class_weight=None, criterion='entropy', max_depth=4,\n",
       "            max_features=None, max_leaf_nodes=None,\n",
       "            min_impurity_decrease=0.0, min_impurity_split=None,\n",
       "            min_samples_leaf=1, min_samples_split=2,\n",
       "            min_weight_fraction_leaf=0.0, presort=False, random_state=None,\n",
       "            splitter='best')"
      ]
     },
     "execution_count": 30,
     "metadata": {},
     "output_type": "execute_result"
    }
   ],
   "source": [
    "model.fit(x, y)"
   ]
  },
  {
   "cell_type": "code",
   "execution_count": 31,
   "metadata": {},
   "outputs": [
    {
     "data": {
      "text/plain": [
       "0.80758017492711365"
      ]
     },
     "execution_count": 31,
     "metadata": {},
     "output_type": "execute_result"
    }
   ],
   "source": [
    "prediction = model.predict(x_new)\n",
    "metrics.accuracy_score(y_new, prediction)"
   ]
  },
  {
   "cell_type": "code",
   "execution_count": 35,
   "metadata": {},
   "outputs": [
    {
     "data": {
      "text/plain": [
       "True"
      ]
     },
     "execution_count": 35,
     "metadata": {},
     "output_type": "execute_result"
    }
   ],
   "source": [
    "import pydot_ng\n",
    "dot_data = StringIO()\n",
    "tree.export_graphviz(model, out_file=dot_data, feature_names=x.columns.values)\n",
    "pydot_ng.graph_from_dot_data(dot_data.getvalue()).write_png('tree.png')"
   ]
  },
  {
   "cell_type": "code",
   "execution_count": null,
   "metadata": {
    "collapsed": true
   },
   "outputs": [],
   "source": [
    "#x[x['Shareholders']==1]"
   ]
  },
  {
   "cell_type": "code",
   "execution_count": null,
   "metadata": {
    "collapsed": true
   },
   "outputs": [],
   "source": []
  },
  {
   "cell_type": "code",
   "execution_count": 33,
   "metadata": {},
   "outputs": [
    {
     "data": {
      "text/plain": [
       "0.77162293488824096"
      ]
     },
     "execution_count": 33,
     "metadata": {},
     "output_type": "execute_result"
    }
   ],
   "source": [
    "from sklearn import svm\n",
    "svm = svm.NuSVC(nu=0.05)#, class_weight='balanced')\n",
    "\n",
    "svm.fit(x, y)\n",
    "\n",
    "y_pred = svm.predict(x_new)\n",
    "y_new = test_data['new_Status']\n",
    "\n",
    "score = svm.score(x_new, y_new)\n",
    "score"
   ]
  },
  {
   "cell_type": "code",
   "execution_count": null,
   "metadata": {
    "collapsed": true
   },
   "outputs": [],
   "source": [
    "y_pred.sum()/len(y_pred)"
   ]
  },
  {
   "cell_type": "code",
   "execution_count": 169,
   "metadata": {
    "collapsed": true
   },
   "outputs": [],
   "source": [
    "from sklearn.decomposition import PCA\n",
    "from sklearn.model_selection import GridSearchCV"
   ]
  },
  {
   "cell_type": "code",
   "execution_count": 183,
   "metadata": {
    "collapsed": true
   },
   "outputs": [],
   "source": [
    "parameters = {'max_features':('auto','log2',None), 'max_depth':list(range(3,25)), 'class_weight':(None,'balanced'),\n",
    "             'criterion': ('gini','entropy'), 'min_samples_split':(2,8,0.01)}\n",
    "\n",
    "rdm = RandomForestClassifier(n_estimators=30)\n",
    "clf = GridSearchCV(rdm, parameters)\n",
    "\n",
    "\n",
    "#clf.fit(x, y)\n",
    "\n",
    "#y_pred = clf.predict(x_new)\n",
    "#y_new = test_data['new_Status']\n",
    "\n",
    "#score = clf.score(x_new, y_new)"
   ]
  },
  {
   "cell_type": "code",
   "execution_count": 184,
   "metadata": {},
   "outputs": [
    {
     "data": {
      "text/plain": [
       "RandomForestClassifier(bootstrap=True, class_weight=None, criterion='gini',\n",
       "            max_depth=23, max_features='log2', max_leaf_nodes=None,\n",
       "            min_impurity_decrease=0.0, min_impurity_split=None,\n",
       "            min_samples_leaf=1, min_samples_split=8,\n",
       "            min_weight_fraction_leaf=0.0, n_estimators=30, n_jobs=1,\n",
       "            oob_score=False, random_state=None, verbose=0,\n",
       "            warm_start=False)"
      ]
     },
     "execution_count": 184,
     "metadata": {},
     "output_type": "execute_result"
    }
   ],
   "source": [
    "clf.best_estimator_"
   ]
  },
  {
   "cell_type": "code",
   "execution_count": 185,
   "metadata": {},
   "outputs": [
    {
     "data": {
      "text/plain": [
       "0.83029556650246306"
      ]
     },
     "execution_count": 185,
     "metadata": {},
     "output_type": "execute_result"
    }
   ],
   "source": [
    "clf.best_score_"
   ]
  },
  {
   "cell_type": "code",
   "execution_count": 105,
   "metadata": {
    "collapsed": true
   },
   "outputs": [],
   "source": [
    "import pandas as pd\n",
    " \n",
    "# laod the Fama-French 30 industry classification txt\n",
    "with open('Siccodes30.txt') as f:\n",
    "    content = f.readlines()\n",
    "# remove whitespace characters like `\\n` at the end of each line\n",
    "ff30 = [x.strip() for x in content] \n",
    " \n",
    "classification = []\n",
    "sic1 = []\n",
    "sic2 = []\n",
    "for l in ff30:\n",
    "    # if list in empty - skip\n",
    "    if not l:\n",
    "        continue\n",
    "    # if not empty, break line by space\n",
    "    l = l.split()\n",
    "    if 1<= len(l[0]) <= 2:\n",
    "        class_ = l[0]  # assign the ff49 industry classification\n",
    "        continue\n",
    "    if '-' in l[0]:\n",
    "        classification.append(class_)  # append lass classfication\n",
    "        sic1.append(l[0][:4])\n",
    "        sic2.append(l[0][5:])\n",
    " \n",
    "df = pd.DataFrame(data={'ff30': classification,\n",
    "                        'sic1': sic1,\n",
    "                        'sic2': sic2})\n",
    " \n",
    "# export the dataframe to csv\n",
    "df.to_csv('Siccodes30.csv', index=0)"
   ]
  },
  {
   "cell_type": "code",
   "execution_count": 106,
   "metadata": {
    "collapsed": true
   },
   "outputs": [],
   "source": []
  },
  {
   "cell_type": "code",
   "execution_count": 112,
   "metadata": {
    "collapsed": true
   },
   "outputs": [],
   "source": []
  },
  {
   "cell_type": "code",
   "execution_count": 113,
   "metadata": {
    "collapsed": true
   },
   "outputs": [],
   "source": []
  },
  {
   "cell_type": "code",
   "execution_count": null,
   "metadata": {
    "collapsed": true
   },
   "outputs": [],
   "source": []
  }
 ],
 "metadata": {
  "kernelspec": {
   "display_name": "Python 3",
   "language": "python",
   "name": "python3"
  },
  "language_info": {
   "codemirror_mode": {
    "name": "ipython",
    "version": 3
   },
   "file_extension": ".py",
   "mimetype": "text/x-python",
   "name": "python",
   "nbconvert_exporter": "python",
   "pygments_lexer": "ipython3",
   "version": "3.5.2"
  }
 },
 "nbformat": 4,
 "nbformat_minor": 2
}
