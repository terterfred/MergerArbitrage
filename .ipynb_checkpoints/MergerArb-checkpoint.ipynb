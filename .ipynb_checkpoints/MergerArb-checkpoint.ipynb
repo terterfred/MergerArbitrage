{
 "cells": [
  {
   "cell_type": "code",
   "execution_count": 1,
   "metadata": {
    "collapsed": true,
    "scrolled": true
   },
   "outputs": [],
   "source": [
    "def shorten(x):\n",
    "    x = str(x)\n",
    "    if len(x)<6:\n",
    "        for i in range(6-len(x)):\n",
    "            x+='0'\n",
    "        return(x)\n",
    "    elif len(x)>6:\n",
    "        return (x[:6])\n",
    "    else:\n",
    "        return(x)"
   ]
  },
  {
   "cell_type": "code",
   "execution_count": 2,
   "metadata": {
    "collapsed": true
   },
   "outputs": [],
   "source": [
    "import pandas as pd\n",
    "import numpy as np\n",
    "import matplotlib.pyplot as plt\n",
    "from patsy import dmatrices\n",
    "import warnings\n",
    "warnings.filterwarnings('ignore')\n",
    "from io import StringIO\n",
    "import io\n",
    "\n",
    "%matplotlib inline"
   ]
  },
  {
   "cell_type": "code",
   "execution_count": 3,
   "metadata": {
    "collapsed": true
   },
   "outputs": [],
   "source": [
    "data = pd.read_excel('M&A_SDC.xlsx')"
   ]
  },
  {
   "cell_type": "code",
   "execution_count": 4,
   "metadata": {},
   "outputs": [
    {
     "data": {
      "text/plain": [
       "(11977, 33)"
      ]
     },
     "execution_count": 4,
     "metadata": {},
     "output_type": "execute_result"
    }
   ],
   "source": [
    "data.shape"
   ]
  },
  {
   "cell_type": "code",
   "execution_count": 5,
   "metadata": {},
   "outputs": [
    {
     "data": {
      "text/html": [
       "<div>\n",
       "<style scoped>\n",
       "    .dataframe tbody tr th:only-of-type {\n",
       "        vertical-align: middle;\n",
       "    }\n",
       "\n",
       "    .dataframe tbody tr th {\n",
       "        vertical-align: top;\n",
       "    }\n",
       "\n",
       "    .dataframe thead th {\n",
       "        text-align: right;\n",
       "    }\n",
       "</style>\n",
       "<table border=\"1\" class=\"dataframe\">\n",
       "  <thead>\n",
       "    <tr style=\"text-align: right;\">\n",
       "      <th></th>\n",
       "      <th>Date\n",
       "Announced</th>\n",
       "      <th>Date\n",
       "Effective</th>\n",
       "      <th>Status</th>\n",
       "      <th>Target Name</th>\n",
       "      <th>Target Short \n",
       "Business Description</th>\n",
       "      <th>Target\n",
       "Primary\n",
       "  SIC\n",
       " Code</th>\n",
       "      <th>Target Industry Sector</th>\n",
       "      <th>Target\n",
       "Nation</th>\n",
       "      <th>Acquiror Name</th>\n",
       "      <th>Acquiror Short\n",
       "Business Description</th>\n",
       "      <th>...</th>\n",
       "      <th>Target\n",
       "Share Price\n",
       "1 Day\n",
       "Prior to\n",
       "Announcement\n",
       "($)</th>\n",
       "      <th>Target\n",
       "Closing\n",
       "Price\n",
       "At Ann\n",
       "Date ($)</th>\n",
       "      <th>Target\n",
       "Closing\n",
       "Price\n",
       "1 Day\n",
       "After Ann\n",
       "Date ($)</th>\n",
       "      <th>Shares\n",
       " Out.\n",
       "Actual\n",
       "(mil)</th>\n",
       "      <th>Ratio of\n",
       "Enterprise\n",
       "Value to\n",
       "EBIT</th>\n",
       "      <th>Acquiror Cash\n",
       " LTM\n",
       "($ mil)</th>\n",
       "      <th>Acquiror\n",
       " CUSIP</th>\n",
       "      <th>Target\n",
       "CUSIP</th>\n",
       "      <th>Target\n",
       "Primary\n",
       "Ticker\n",
       "Symbol</th>\n",
       "      <th>Acquiror\n",
       "Primary\n",
       "Ticker\n",
       "Symbol</th>\n",
       "    </tr>\n",
       "  </thead>\n",
       "  <tbody>\n",
       "    <tr>\n",
       "      <th>0</th>\n",
       "      <td>1990-01-03</td>\n",
       "      <td>NaT</td>\n",
       "      <td>Withdrawn</td>\n",
       "      <td>National Savings Bank,Albany</td>\n",
       "      <td>Savings bank</td>\n",
       "      <td>6035</td>\n",
       "      <td>Savings and Loans, Mutual Savings Banks</td>\n",
       "      <td>United States</td>\n",
       "      <td>TrustCo Bank Corp,NY</td>\n",
       "      <td>Bank holding company</td>\n",
       "      <td>...</td>\n",
       "      <td>28.000</td>\n",
       "      <td>30.000</td>\n",
       "      <td>28.75</td>\n",
       "      <td>1.16</td>\n",
       "      <td>104.309</td>\n",
       "      <td>NaN</td>\n",
       "      <td>898349</td>\n",
       "      <td>637455</td>\n",
       "      <td>NSBA</td>\n",
       "      <td>TRST</td>\n",
       "    </tr>\n",
       "    <tr>\n",
       "      <th>1</th>\n",
       "      <td>1990-01-03</td>\n",
       "      <td>NaT</td>\n",
       "      <td>Dis Rumor</td>\n",
       "      <td>Paramount Communications</td>\n",
       "      <td>Entertainment,sports promotion</td>\n",
       "      <td>7822</td>\n",
       "      <td>Motion Picture Production and Distribution</td>\n",
       "      <td>United States</td>\n",
       "      <td>CBS Inc</td>\n",
       "      <td>Own,op TV,radio stations</td>\n",
       "      <td>...</td>\n",
       "      <td>59.625</td>\n",
       "      <td>62.125</td>\n",
       "      <td>63.00</td>\n",
       "      <td>116.19</td>\n",
       "      <td>np</td>\n",
       "      <td>1077.8</td>\n",
       "      <td>124845</td>\n",
       "      <td>699216</td>\n",
       "      <td>PCI</td>\n",
       "      <td>CBS</td>\n",
       "    </tr>\n",
       "    <tr>\n",
       "      <th>2</th>\n",
       "      <td>1990-01-03</td>\n",
       "      <td>NaT</td>\n",
       "      <td>Withdrawn</td>\n",
       "      <td>Qume Corp</td>\n",
       "      <td>Mnfr computer peripheral equip</td>\n",
       "      <td>3577</td>\n",
       "      <td>Computer and Office Equipment</td>\n",
       "      <td>United States</td>\n",
       "      <td>Investor Group</td>\n",
       "      <td>Investor group</td>\n",
       "      <td>...</td>\n",
       "      <td>5.250</td>\n",
       "      <td>6.250</td>\n",
       "      <td>6.50</td>\n",
       "      <td>11.10</td>\n",
       "      <td>39.889</td>\n",
       "      <td>NaN</td>\n",
       "      <td>46145M</td>\n",
       "      <td>749060</td>\n",
       "      <td>QUME</td>\n",
       "      <td>NaN</td>\n",
       "    </tr>\n",
       "    <tr>\n",
       "      <th>3</th>\n",
       "      <td>1990-01-03</td>\n",
       "      <td>NaT</td>\n",
       "      <td>Intended</td>\n",
       "      <td>UAL Corp</td>\n",
       "      <td>Passenger airline</td>\n",
       "      <td>4512</td>\n",
       "      <td>Air Transportation and Shipping</td>\n",
       "      <td>United States</td>\n",
       "      <td>Investor Group</td>\n",
       "      <td>Investor group</td>\n",
       "      <td>...</td>\n",
       "      <td>164.500</td>\n",
       "      <td>210.750</td>\n",
       "      <td>219.25</td>\n",
       "      <td>NaN</td>\n",
       "      <td>np</td>\n",
       "      <td>NaN</td>\n",
       "      <td>46145M</td>\n",
       "      <td>902549</td>\n",
       "      <td>UAL</td>\n",
       "      <td>NaN</td>\n",
       "    </tr>\n",
       "    <tr>\n",
       "      <th>4</th>\n",
       "      <td>1990-01-08</td>\n",
       "      <td>NaT</td>\n",
       "      <td>Withdrawn</td>\n",
       "      <td>ALC Communications Corp</td>\n",
       "      <td>Long distance telecomm service</td>\n",
       "      <td>4813</td>\n",
       "      <td>Telecommunications</td>\n",
       "      <td>United States</td>\n",
       "      <td>Telecom USA Inc</td>\n",
       "      <td>Provide telemarketing services</td>\n",
       "      <td>...</td>\n",
       "      <td>1.563</td>\n",
       "      <td>2.438</td>\n",
       "      <td>2.00</td>\n",
       "      <td>13.70</td>\n",
       "      <td>np</td>\n",
       "      <td>NaN</td>\n",
       "      <td>87928C</td>\n",
       "      <td>001575</td>\n",
       "      <td>ALCC</td>\n",
       "      <td>TTT</td>\n",
       "    </tr>\n",
       "  </tbody>\n",
       "</table>\n",
       "<p>5 rows × 33 columns</p>\n",
       "</div>"
      ],
      "text/plain": [
       "    Date\\nAnnounced   Date\\nEffective     Status  \\\n",
       "0        1990-01-03               NaT  Withdrawn   \n",
       "1        1990-01-03               NaT  Dis Rumor   \n",
       "2        1990-01-03               NaT  Withdrawn   \n",
       "3        1990-01-03               NaT   Intended   \n",
       "4        1990-01-08               NaT  Withdrawn   \n",
       "\n",
       "                    Target Name Target Short \\nBusiness Description  \\\n",
       "0  National Savings Bank,Albany                        Savings bank   \n",
       "1      Paramount Communications      Entertainment,sports promotion   \n",
       "2                     Qume Corp      Mnfr computer peripheral equip   \n",
       "3                      UAL Corp                   Passenger airline   \n",
       "4       ALC Communications Corp      Long distance telecomm service   \n",
       "\n",
       "  Target\\nPrimary\\n  SIC\\n Code                      Target Industry Sector  \\\n",
       "0                          6035     Savings and Loans, Mutual Savings Banks   \n",
       "1                          7822  Motion Picture Production and Distribution   \n",
       "2                          3577               Computer and Office Equipment   \n",
       "3                          4512             Air Transportation and Shipping   \n",
       "4                          4813                          Telecommunications   \n",
       "\n",
       "  Target\\nNation         Acquiror Name Acquiror Short\\nBusiness Description  \\\n",
       "0  United States  TrustCo Bank Corp,NY                 Bank holding company   \n",
       "1  United States               CBS Inc             Own,op TV,radio stations   \n",
       "2  United States        Investor Group                       Investor group   \n",
       "3  United States        Investor Group                       Investor group   \n",
       "4  United States       Telecom USA Inc       Provide telemarketing services   \n",
       "\n",
       "                 ...                  \\\n",
       "0                ...                   \n",
       "1                ...                   \n",
       "2                ...                   \n",
       "3                ...                   \n",
       "4                ...                   \n",
       "\n",
       "  Target\\nShare Price\\n1 Day\\nPrior to\\nAnnouncement\\n($)  \\\n",
       "0                                             28.000        \n",
       "1                                             59.625        \n",
       "2                                              5.250        \n",
       "3                                            164.500        \n",
       "4                                              1.563        \n",
       "\n",
       "  Target\\nClosing\\nPrice\\nAt Ann\\nDate ($)  \\\n",
       "0                                   30.000   \n",
       "1                                   62.125   \n",
       "2                                    6.250   \n",
       "3                                  210.750   \n",
       "4                                    2.438   \n",
       "\n",
       "   Target\\nClosing\\nPrice\\n1 Day\\nAfter Ann\\nDate ($)  \\\n",
       "0                                              28.75    \n",
       "1                                              63.00    \n",
       "2                                               6.50    \n",
       "3                                             219.25    \n",
       "4                                               2.00    \n",
       "\n",
       "   Shares\\n Out.\\nActual\\n(mil)  Ratio of\\nEnterprise\\nValue to\\nEBIT  \\\n",
       "0                          1.16                               104.309   \n",
       "1                        116.19                                    np   \n",
       "2                         11.10                                39.889   \n",
       "3                           NaN                                    np   \n",
       "4                         13.70                                    np   \n",
       "\n",
       "  Acquiror Cash\\n LTM\\n($ mil)  Acquiror\\n CUSIP  Target\\nCUSIP  \\\n",
       "0                          NaN            898349         637455   \n",
       "1                       1077.8            124845         699216   \n",
       "2                          NaN            46145M         749060   \n",
       "3                          NaN            46145M         902549   \n",
       "4                          NaN            87928C         001575   \n",
       "\n",
       "   Target\\nPrimary\\nTicker\\nSymbol  Acquiror\\nPrimary\\nTicker\\nSymbol  \n",
       "0                             NSBA                               TRST  \n",
       "1                              PCI                                CBS  \n",
       "2                             QUME                                NaN  \n",
       "3                              UAL                                NaN  \n",
       "4                             ALCC                                TTT  \n",
       "\n",
       "[5 rows x 33 columns]"
      ]
     },
     "execution_count": 5,
     "metadata": {},
     "output_type": "execute_result"
    }
   ],
   "source": [
    "data.head()"
   ]
  },
  {
   "cell_type": "code",
   "execution_count": 6,
   "metadata": {
    "collapsed": true
   },
   "outputs": [],
   "source": [
    "data.columns =['Date Ann', 'Date Effective', 'Status', 'Target Name',\n",
    "       'Target Description', 'Target Primary SIC Code',\n",
    "       'Target Industry', 'Target Nation', 'Acquiror Name',\n",
    "       'Acquiror Description', 'Acquiror Industry',\n",
    "       'Acquiror Nation',\n",
    "       'Acquiror Market Val 4 Weeks Prior',\n",
    "       'Acquiror Closing Price Ann',\n",
    "       'Acquiror Closing Price 1 Day After Ann', 'Synopsis',\n",
    "       '% of Shares Acq.', 'Price Per Share',\n",
    "       'Net Income LTM',\n",
    "       'Target EBITDA LTM',\n",
    "       'Target Book Value Per Share LTM',\n",
    "       'Target Earnings Per Share LTM',\n",
    "       'Target Share Price 1 Week Prior to Announcement',\n",
    "       'Target Share Price 1 Day Prior to Announcement',\n",
    "       'Target Closing Price At Ann Date',\n",
    "       'Target Closing Price 1 Day After Ann Date',\n",
    "       'Shares Out Actual', 'EV to EBIT',\n",
    "       'Acquiror Cash LTM','Acquiror CUSIP', 'Target CUSIP','Target Ticker', 'Acquiror Ticker']"
   ]
  },
  {
   "cell_type": "code",
   "execution_count": 7,
   "metadata": {
    "collapsed": true
   },
   "outputs": [],
   "source": [
    "data['Date Ann'] = pd.to_datetime(data['Date Ann'])"
   ]
  },
  {
   "cell_type": "code",
   "execution_count": 8,
   "metadata": {},
   "outputs": [
    {
     "data": {
      "text/plain": [
       "Index(['Date Ann', 'Date Effective', 'Status', 'Target Name',\n",
       "       'Target Description', 'Target Primary SIC Code', 'Target Industry',\n",
       "       'Target Nation', 'Acquiror Name', 'Acquiror Description',\n",
       "       'Acquiror Industry', 'Acquiror Nation',\n",
       "       'Acquiror Market Val 4 Weeks Prior', 'Acquiror Closing Price Ann',\n",
       "       'Acquiror Closing Price 1 Day After Ann', 'Synopsis',\n",
       "       '% of Shares Acq.', 'Price Per Share', 'Net Income LTM',\n",
       "       'Target EBITDA LTM', 'Target Book Value Per Share LTM',\n",
       "       'Target Earnings Per Share LTM',\n",
       "       'Target Share Price 1 Week Prior to Announcement',\n",
       "       'Target Share Price 1 Day Prior to Announcement',\n",
       "       'Target Closing Price At Ann Date',\n",
       "       'Target Closing Price 1 Day After Ann Date', 'Shares Out Actual',\n",
       "       'EV to EBIT', 'Acquiror Cash LTM', 'Acquiror CUSIP', 'Target CUSIP',\n",
       "       'Target Ticker', 'Acquiror Ticker'],\n",
       "      dtype='object')"
      ]
     },
     "execution_count": 8,
     "metadata": {},
     "output_type": "execute_result"
    }
   ],
   "source": [
    "#data.groupby('Acquiror Nation')['Target Nation'].count()\n",
    "data.columns"
   ]
  },
  {
   "cell_type": "code",
   "execution_count": 9,
   "metadata": {
    "scrolled": true
   },
   "outputs": [
    {
     "data": {
      "text/plain": [
       "Status\n",
       "Completed         7432\n",
       "Dis Rumor            1\n",
       "Intended            28\n",
       "Intent W            19\n",
       "Part Comp            1\n",
       "Pending            170\n",
       "S Buyer W            1\n",
       "Status Unknown      23\n",
       "Withdrawn         1518\n",
       "Name: Date Ann, dtype: int64"
      ]
     },
     "execution_count": 9,
     "metadata": {},
     "output_type": "execute_result"
    }
   ],
   "source": [
    "temp_data = data[data['Price Per Share'].notnull()]\n",
    "temp_data.groupby('Status')['Date Ann'].count()"
   ]
  },
  {
   "cell_type": "code",
   "execution_count": 10,
   "metadata": {
    "collapsed": true
   },
   "outputs": [],
   "source": [
    "# For now, only consider the ones completed and withdrawn.\n",
    "#new_data[new_data['Price Per Share'].isnull()]"
   ]
  },
  {
   "cell_type": "code",
   "execution_count": 11,
   "metadata": {
    "collapsed": true
   },
   "outputs": [],
   "source": [
    "#new_data = data[data['Status'].isin(['Completed','Withdrawn'])] \n",
    "new_data = data[data['Price Per Share'].notnull()]\n",
    "new_data = new_data[new_data['Price Per Share']>1]\n",
    "new_data = new_data[-new_data['Status'].isin(['Pending'])]\n",
    "new_data['Status'] = data['Status'].apply(lambda x: x if x=='Completed' else 'Failed')"
   ]
  },
  {
   "cell_type": "code",
   "execution_count": 12,
   "metadata": {},
   "outputs": [
    {
     "name": "stdout",
     "output_type": "stream",
     "text": [
      "(8963, 33)\n"
     ]
    },
    {
     "data": {
      "text/plain": [
       "Status\n",
       "Completed    7383\n",
       "Failed       1580\n",
       "Name: Date Ann, dtype: int64"
      ]
     },
     "execution_count": 12,
     "metadata": {},
     "output_type": "execute_result"
    }
   ],
   "source": [
    "print (new_data.shape)\n",
    "new_data.groupby('Status')['Date Ann'].count()"
   ]
  },
  {
   "cell_type": "code",
   "execution_count": 13,
   "metadata": {
    "collapsed": true
   },
   "outputs": [],
   "source": [
    "temp = pd.read_csv('2003_vol.csv')\n",
    "temp = temp.drop('index_flag',axis=1)\n",
    "temp['date'] = pd.to_datetime(temp['date'],format='%Y%m%d')\n",
    "temp_30 = temp[temp['days']==30]\n",
    "new_temp = temp_30.pivot(index='date',columns='secid',values='volatility').pct_change(1).stack().reset_index()\n",
    "new_temp.columns=['date','secid','vol_jump']\n",
    "temp_30 = pd.merge(temp_30, new_temp, on=['date','secid'],how='left')\n",
    "temp_30.columns=['secid', 'date', 'days', 'volatility_30', 'ticker', 'vol_jump_30']\n",
    "temp_14 = temp[temp['days']==14]\n",
    "new_temp = temp_14.pivot(index='date',columns='secid',values='volatility').shift(1).stack().reset_index()\n",
    "new_temp.columns=['date','secid','vol_jump']\n",
    "temp_14 = pd.merge(temp_14, new_temp, on=['date','secid'],how='left')\n",
    "temp_14.columns=['secid', 'date', 'days', 'volatility_14', 'ticker', 'vol_jump_14']\n",
    "temp = pd.merge(temp_30,temp_14,on=['date','secid'],how='outer')\n",
    "temp = temp.drop(['days_x', 'days_y', 'ticker_y'],axis=1)\n",
    "temp.columns = ['secid', 'date', 'volatility_30', 'ticker', 'vol_jump_30',\n",
    "       'volatility_14', 'vol_jump_14']\n",
    "temp['vol_30_shift'] = temp['volatility_30'].shift(-1)\n",
    "temp['vol_jump_30_shift'] = temp['vol_jump_30'].shift(-1)\n",
    "temp['vol_14_shift'] = temp['volatility_14'].shift(-1)\n",
    "temp['vol_jump_14_shift'] = temp['vol_jump_14'].shift(-1)"
   ]
  },
  {
   "cell_type": "code",
   "execution_count": 14,
   "metadata": {
    "collapsed": true
   },
   "outputs": [],
   "source": [
    "vol=pd.DataFrame()\n",
    "vol = pd.concat([vol,temp])"
   ]
  },
  {
   "cell_type": "code",
   "execution_count": 15,
   "metadata": {
    "collapsed": true
   },
   "outputs": [],
   "source": [
    "temp = pd.read_csv('2010_vol.csv')\n",
    "temp = temp.drop('index_flag',axis=1)\n",
    "temp['date'] = pd.to_datetime(temp['date'],format='%Y%m%d')\n",
    "temp_30 = temp[temp['days']==30]\n",
    "new_temp = temp_30.pivot(index='date',columns='secid',values='volatility').pct_change(1).stack().reset_index()\n",
    "new_temp.columns=['date','secid','vol_jump']\n",
    "temp_30 = pd.merge(temp_30, new_temp, on=['date','secid'],how='left')\n",
    "temp_30.columns=['secid', 'date', 'days', 'volatility_30', 'ticker', 'vol_jump_30']\n",
    "temp_14 = temp[temp['days']==14]\n",
    "new_temp = temp_14.pivot(index='date',columns='secid',values='volatility').shift(1).stack().reset_index()\n",
    "new_temp.columns=['date','secid','vol_jump']\n",
    "temp_14 = pd.merge(temp_14, new_temp, on=['date','secid'],how='left')\n",
    "temp_14.columns=['secid', 'date', 'days', 'volatility_14', 'ticker', 'vol_jump_14']\n",
    "temp = pd.merge(temp_30,temp_14,on=['date','secid'],how='outer')\n",
    "temp = temp.drop(['days_x', 'days_y', 'ticker_y'],axis=1)\n",
    "temp.columns = ['secid', 'date', 'volatility_30', 'ticker', 'vol_jump_30',\n",
    "       'volatility_14', 'vol_jump_14']\n",
    "temp['vol_30_shift'] = temp['volatility_30'].shift(-1)\n",
    "temp['vol_jump_30_shift'] = temp['vol_jump_30'].shift(-1)\n",
    "temp['vol_14_shift'] = temp['volatility_14'].shift(-1)\n",
    "temp['vol_jump_14_shift'] = temp['vol_jump_14'].shift(-1)\n",
    "vol = pd.concat([vol,temp])"
   ]
  },
  {
   "cell_type": "code",
   "execution_count": 16,
   "metadata": {
    "collapsed": true
   },
   "outputs": [],
   "source": [
    "temp = pd.read_csv('2017_vol.csv')\n",
    "temp = temp.drop('index_flag',axis=1)\n",
    "temp['date'] = pd.to_datetime(temp['date'],format='%Y%m%d')\n",
    "temp_30 = temp[temp['days']==30]\n",
    "new_temp = temp_30.pivot(index='date',columns='secid',values='volatility').pct_change(1).stack().reset_index()\n",
    "new_temp.columns=['date','secid','vol_jump']\n",
    "temp_30 = pd.merge(temp_30, new_temp, on=['date','secid'],how='left')\n",
    "temp_30.columns=['secid', 'date', 'days', 'volatility_30', 'ticker', 'vol_jump_30']\n",
    "temp_14 = temp[temp['days']==14]\n",
    "new_temp = temp_14.pivot(index='date',columns='secid',values='volatility').shift(1).stack().reset_index()\n",
    "new_temp.columns=['date','secid','vol_jump']\n",
    "temp_14 = pd.merge(temp_14, new_temp, on=['date','secid'],how='left')\n",
    "temp_14.columns=['secid', 'date', 'days', 'volatility_14', 'ticker', 'vol_jump_14']\n",
    "temp = pd.merge(temp_30,temp_14,on=['date','secid'],how='outer')\n",
    "temp = temp.drop(['days_x', 'days_y', 'ticker_y'],axis=1)\n",
    "temp.columns = ['secid', 'date', 'volatility_30', 'ticker', 'vol_jump_30',\n",
    "       'volatility_14', 'vol_jump_14']\n",
    "temp['vol_30_shift'] = temp['volatility_30'].shift(-1)\n",
    "temp['vol_jump_30_shift'] = temp['vol_jump_30'].shift(-1)\n",
    "temp['vol_14_shift'] = temp['volatility_14'].shift(-1)\n",
    "temp['vol_jump_14_shift'] = temp['vol_jump_14'].shift(-1)\n",
    "vol = pd.concat([vol,temp])"
   ]
  },
  {
   "cell_type": "code",
   "execution_count": 17,
   "metadata": {
    "collapsed": true
   },
   "outputs": [],
   "source": [
    "vol = vol.reset_index(drop=True)"
   ]
  },
  {
   "cell_type": "code",
   "execution_count": 18,
   "metadata": {
    "collapsed": true
   },
   "outputs": [],
   "source": [
    "new_data = pd.merge(new_data, vol, left_on = ['Date Ann','Target Ticker'], right_on=['date','ticker'],how='left')\n",
    "new_data = pd.merge(new_data, vol, left_on = ['Date Ann','Acquiror Ticker'], right_on=['date','ticker'],how='left')"
   ]
  },
  {
   "cell_type": "code",
   "execution_count": 19,
   "metadata": {},
   "outputs": [
    {
     "data": {
      "text/plain": [
       "Index(['Date Ann', 'Date Effective', 'Status', 'Target Name',\n",
       "       'Target Description', 'Target Primary SIC Code', 'Target Industry',\n",
       "       'Target Nation', 'Acquiror Name', 'Acquiror Description',\n",
       "       'Acquiror Industry', 'Acquiror Nation',\n",
       "       'Acquiror Market Val 4 Weeks Prior', 'Acquiror Closing Price Ann',\n",
       "       'Acquiror Closing Price 1 Day After Ann', 'Synopsis',\n",
       "       '% of Shares Acq.', 'Price Per Share', 'Net Income LTM',\n",
       "       'Target EBITDA LTM', 'Target Book Value Per Share LTM',\n",
       "       'Target Earnings Per Share LTM',\n",
       "       'Target Share Price 1 Week Prior to Announcement',\n",
       "       'Target Share Price 1 Day Prior to Announcement',\n",
       "       'Target Closing Price At Ann Date',\n",
       "       'Target Closing Price 1 Day After Ann Date', 'Shares Out Actual',\n",
       "       'EV to EBIT', 'Acquiror Cash LTM', 'Acquiror CUSIP', 'Target CUSIP',\n",
       "       'Target Ticker', 'Acquiror Ticker', 'volatility_30_x', 'vol_jump_30_x',\n",
       "       'volatility_14_x', 'vol_jump_14_x', 'vol_30_shift_x',\n",
       "       'vol_jump_30_shift_x', 'vol_14_shift_x', 'vol_jump_14_shift_x',\n",
       "       'volatility_30_y', 'vol_jump_30_y', 'volatility_14_y', 'vol_jump_14_y',\n",
       "       'vol_30_shift_y', 'vol_jump_30_shift_y', 'vol_14_shift_y',\n",
       "       'vol_jump_14_shift_y'],\n",
       "      dtype='object')"
      ]
     },
     "execution_count": 19,
     "metadata": {},
     "output_type": "execute_result"
    }
   ],
   "source": [
    "new_data = new_data.drop(['secid_x', 'date_x', \n",
    "        'ticker_x', 'secid_y', 'date_y', 'ticker_y'],axis=1)\n",
    "new_data.columns"
   ]
  },
  {
   "cell_type": "code",
   "execution_count": 20,
   "metadata": {
    "collapsed": true
   },
   "outputs": [],
   "source": [
    "new_data.columns=['Date Ann', 'Date Effective', 'Status', 'Target Name',\n",
    "       'Target Description', 'Target Primary SIC Code', 'Target Industry',\n",
    "       'Target Nation', 'Acquiror Name', 'Acquiror Description',\n",
    "       'Acquiror Industry', 'Acquiror Nation',\n",
    "       'Acquiror Market Val 4 Weeks Prior', 'Acquiror Closing Price Ann',\n",
    "       'Acquiror Closing Price 1 Day After Ann', 'Synopsis',\n",
    "       '% of Shares Acq.', 'Price Per Share', 'Net Income LTM',\n",
    "       'Target EBITDA LTM', 'Target Book Value Per Share LTM',\n",
    "       'Target Earnings Per Share LTM',\n",
    "       'Target Share Price 1 Week Prior to Announcement',\n",
    "       'Target Share Price 1 Day Prior to Announcement',\n",
    "       'Target Closing Price At Ann Date',\n",
    "       'Target Closing Price 1 Day After Ann Date', 'Shares Out Actual',\n",
    "       'EV to EBIT', 'Acquiror Cash LTM', 'Acquiror CUSIP', 'Target CUSIP',\n",
    "       'Target Ticker', 'Acquiror Ticker', 'Target Volatility 30', 'Target Vol jump 30', 'Target Volatility 14',\n",
    "       'Target Vol jump 14', 'Target Volatility 30 Shift',\n",
    "       'Target Vol jump 30 Shift', 'Target Volatility 14 Shift', 'Target Vol jump 14 Shift',\n",
    "                  'Acquiror Volatility 30', \n",
    "       'Acquiror Vol jump 30', 'Acquiror Volatility 14', 'Acquiror Vol jump 14','Acquiror Volatility 30 Shift',\n",
    "       'Acquiror Vol jump 30 Shift', 'Acquiror Volatility 14 Shift', 'Acquiror Vol jump 14 Shift',]"
   ]
  },
  {
   "cell_type": "code",
   "execution_count": 21,
   "metadata": {},
   "outputs": [
    {
     "data": {
      "text/html": [
       "<div>\n",
       "<style scoped>\n",
       "    .dataframe tbody tr th:only-of-type {\n",
       "        vertical-align: middle;\n",
       "    }\n",
       "\n",
       "    .dataframe tbody tr th {\n",
       "        vertical-align: top;\n",
       "    }\n",
       "\n",
       "    .dataframe thead th {\n",
       "        text-align: right;\n",
       "    }\n",
       "</style>\n",
       "<table border=\"1\" class=\"dataframe\">\n",
       "  <thead>\n",
       "    <tr style=\"text-align: right;\">\n",
       "      <th></th>\n",
       "      <th>Date Ann</th>\n",
       "      <th>Date Effective</th>\n",
       "      <th>Status</th>\n",
       "      <th>Target Name</th>\n",
       "      <th>Target Description</th>\n",
       "      <th>Target Primary SIC Code</th>\n",
       "      <th>Target Industry</th>\n",
       "      <th>Target Nation</th>\n",
       "      <th>Acquiror Name</th>\n",
       "      <th>Acquiror Description</th>\n",
       "      <th>...</th>\n",
       "      <th>Target Volatility 14 Shift</th>\n",
       "      <th>Target Vol jump 14 Shift</th>\n",
       "      <th>Acquiror Volatility 30</th>\n",
       "      <th>Acquiror Vol jump 30</th>\n",
       "      <th>Acquiror Volatility 14</th>\n",
       "      <th>Acquiror Vol jump 14</th>\n",
       "      <th>Acquiror Volatility 30 Shift</th>\n",
       "      <th>Acquiror Vol jump 30 Shift</th>\n",
       "      <th>Acquiror Volatility 14 Shift</th>\n",
       "      <th>Acquiror Vol jump 14 Shift</th>\n",
       "    </tr>\n",
       "  </thead>\n",
       "  <tbody>\n",
       "    <tr>\n",
       "      <th>0</th>\n",
       "      <td>1990-01-03</td>\n",
       "      <td>NaT</td>\n",
       "      <td>Failed</td>\n",
       "      <td>National Savings Bank,Albany</td>\n",
       "      <td>Savings bank</td>\n",
       "      <td>6035</td>\n",
       "      <td>Savings and Loans, Mutual Savings Banks</td>\n",
       "      <td>United States</td>\n",
       "      <td>TrustCo Bank Corp,NY</td>\n",
       "      <td>Bank holding company</td>\n",
       "      <td>...</td>\n",
       "      <td>NaN</td>\n",
       "      <td>NaN</td>\n",
       "      <td>NaN</td>\n",
       "      <td>NaN</td>\n",
       "      <td>NaN</td>\n",
       "      <td>NaN</td>\n",
       "      <td>NaN</td>\n",
       "      <td>NaN</td>\n",
       "      <td>NaN</td>\n",
       "      <td>NaN</td>\n",
       "    </tr>\n",
       "    <tr>\n",
       "      <th>1</th>\n",
       "      <td>1990-01-03</td>\n",
       "      <td>NaT</td>\n",
       "      <td>Failed</td>\n",
       "      <td>Qume Corp</td>\n",
       "      <td>Mnfr computer peripheral equip</td>\n",
       "      <td>3577</td>\n",
       "      <td>Computer and Office Equipment</td>\n",
       "      <td>United States</td>\n",
       "      <td>Investor Group</td>\n",
       "      <td>Investor group</td>\n",
       "      <td>...</td>\n",
       "      <td>NaN</td>\n",
       "      <td>NaN</td>\n",
       "      <td>NaN</td>\n",
       "      <td>NaN</td>\n",
       "      <td>NaN</td>\n",
       "      <td>NaN</td>\n",
       "      <td>NaN</td>\n",
       "      <td>NaN</td>\n",
       "      <td>NaN</td>\n",
       "      <td>NaN</td>\n",
       "    </tr>\n",
       "    <tr>\n",
       "      <th>2</th>\n",
       "      <td>1990-01-08</td>\n",
       "      <td>NaT</td>\n",
       "      <td>Failed</td>\n",
       "      <td>First Fidelity Bancorp,NJ</td>\n",
       "      <td>Bank holding company</td>\n",
       "      <td>6021</td>\n",
       "      <td>Commercial Banks, Bank Holding Companies</td>\n",
       "      <td>United States</td>\n",
       "      <td>PNC Financial,Pittsburgh,PA</td>\n",
       "      <td>Commercial,investment bank</td>\n",
       "      <td>...</td>\n",
       "      <td>NaN</td>\n",
       "      <td>NaN</td>\n",
       "      <td>NaN</td>\n",
       "      <td>NaN</td>\n",
       "      <td>NaN</td>\n",
       "      <td>NaN</td>\n",
       "      <td>NaN</td>\n",
       "      <td>NaN</td>\n",
       "      <td>NaN</td>\n",
       "      <td>NaN</td>\n",
       "    </tr>\n",
       "    <tr>\n",
       "      <th>3</th>\n",
       "      <td>1990-01-08</td>\n",
       "      <td>NaT</td>\n",
       "      <td>Failed</td>\n",
       "      <td>Royal International Optical</td>\n",
       "      <td>Own,operate optical stores</td>\n",
       "      <td>5995</td>\n",
       "      <td>Miscellaneous Retail Trade</td>\n",
       "      <td>United States</td>\n",
       "      <td>IPCO Corp</td>\n",
       "      <td>Whl medical and optical prod</td>\n",
       "      <td>...</td>\n",
       "      <td>NaN</td>\n",
       "      <td>NaN</td>\n",
       "      <td>NaN</td>\n",
       "      <td>NaN</td>\n",
       "      <td>NaN</td>\n",
       "      <td>NaN</td>\n",
       "      <td>NaN</td>\n",
       "      <td>NaN</td>\n",
       "      <td>NaN</td>\n",
       "      <td>NaN</td>\n",
       "    </tr>\n",
       "    <tr>\n",
       "      <th>4</th>\n",
       "      <td>1990-01-12</td>\n",
       "      <td>NaT</td>\n",
       "      <td>Failed</td>\n",
       "      <td>BFS Bankorp Inc,New York,NY</td>\n",
       "      <td>Bank holding company</td>\n",
       "      <td>6036</td>\n",
       "      <td>Savings and Loans, Mutual Savings Banks</td>\n",
       "      <td>United States</td>\n",
       "      <td>First Capital Group Inc</td>\n",
       "      <td>Investment firm</td>\n",
       "      <td>...</td>\n",
       "      <td>NaN</td>\n",
       "      <td>NaN</td>\n",
       "      <td>NaN</td>\n",
       "      <td>NaN</td>\n",
       "      <td>NaN</td>\n",
       "      <td>NaN</td>\n",
       "      <td>NaN</td>\n",
       "      <td>NaN</td>\n",
       "      <td>NaN</td>\n",
       "      <td>NaN</td>\n",
       "    </tr>\n",
       "  </tbody>\n",
       "</table>\n",
       "<p>5 rows × 49 columns</p>\n",
       "</div>"
      ],
      "text/plain": [
       "    Date Ann Date Effective  Status                   Target Name  \\\n",
       "0 1990-01-03            NaT  Failed  National Savings Bank,Albany   \n",
       "1 1990-01-03            NaT  Failed                     Qume Corp   \n",
       "2 1990-01-08            NaT  Failed     First Fidelity Bancorp,NJ   \n",
       "3 1990-01-08            NaT  Failed   Royal International Optical   \n",
       "4 1990-01-12            NaT  Failed   BFS Bankorp Inc,New York,NY   \n",
       "\n",
       "               Target Description Target Primary SIC Code  \\\n",
       "0                    Savings bank                    6035   \n",
       "1  Mnfr computer peripheral equip                    3577   \n",
       "2            Bank holding company                    6021   \n",
       "3      Own,operate optical stores                    5995   \n",
       "4            Bank holding company                    6036   \n",
       "\n",
       "                            Target Industry  Target Nation  \\\n",
       "0   Savings and Loans, Mutual Savings Banks  United States   \n",
       "1             Computer and Office Equipment  United States   \n",
       "2  Commercial Banks, Bank Holding Companies  United States   \n",
       "3                Miscellaneous Retail Trade  United States   \n",
       "4   Savings and Loans, Mutual Savings Banks  United States   \n",
       "\n",
       "                 Acquiror Name          Acquiror Description  \\\n",
       "0         TrustCo Bank Corp,NY          Bank holding company   \n",
       "1               Investor Group                Investor group   \n",
       "2  PNC Financial,Pittsburgh,PA    Commercial,investment bank   \n",
       "3                    IPCO Corp  Whl medical and optical prod   \n",
       "4      First Capital Group Inc               Investment firm   \n",
       "\n",
       "              ...             Target Volatility 14 Shift  \\\n",
       "0             ...                                    NaN   \n",
       "1             ...                                    NaN   \n",
       "2             ...                                    NaN   \n",
       "3             ...                                    NaN   \n",
       "4             ...                                    NaN   \n",
       "\n",
       "  Target Vol jump 14 Shift  Acquiror Volatility 30  Acquiror Vol jump 30  \\\n",
       "0                      NaN                     NaN                   NaN   \n",
       "1                      NaN                     NaN                   NaN   \n",
       "2                      NaN                     NaN                   NaN   \n",
       "3                      NaN                     NaN                   NaN   \n",
       "4                      NaN                     NaN                   NaN   \n",
       "\n",
       "   Acquiror Volatility 14 Acquiror Vol jump 14  Acquiror Volatility 30 Shift  \\\n",
       "0                     NaN                  NaN                           NaN   \n",
       "1                     NaN                  NaN                           NaN   \n",
       "2                     NaN                  NaN                           NaN   \n",
       "3                     NaN                  NaN                           NaN   \n",
       "4                     NaN                  NaN                           NaN   \n",
       "\n",
       "   Acquiror Vol jump 30 Shift  Acquiror Volatility 14 Shift  \\\n",
       "0                         NaN                           NaN   \n",
       "1                         NaN                           NaN   \n",
       "2                         NaN                           NaN   \n",
       "3                         NaN                           NaN   \n",
       "4                         NaN                           NaN   \n",
       "\n",
       "   Acquiror Vol jump 14 Shift  \n",
       "0                         NaN  \n",
       "1                         NaN  \n",
       "2                         NaN  \n",
       "3                         NaN  \n",
       "4                         NaN  \n",
       "\n",
       "[5 rows x 49 columns]"
      ]
     },
     "execution_count": 21,
     "metadata": {},
     "output_type": "execute_result"
    }
   ],
   "source": [
    "new_data.head()"
   ]
  },
  {
   "cell_type": "code",
   "execution_count": 22,
   "metadata": {},
   "outputs": [
    {
     "data": {
      "text/html": [
       "<div>\n",
       "<style scoped>\n",
       "    .dataframe tbody tr th:only-of-type {\n",
       "        vertical-align: middle;\n",
       "    }\n",
       "\n",
       "    .dataframe tbody tr th {\n",
       "        vertical-align: top;\n",
       "    }\n",
       "\n",
       "    .dataframe thead th {\n",
       "        text-align: right;\n",
       "    }\n",
       "</style>\n",
       "<table border=\"1\" class=\"dataframe\">\n",
       "  <thead>\n",
       "    <tr style=\"text-align: right;\">\n",
       "      <th></th>\n",
       "      <th>Acquiror Name</th>\n",
       "      <th>Date Ann</th>\n",
       "    </tr>\n",
       "  </thead>\n",
       "  <tbody>\n",
       "    <tr>\n",
       "      <th>488</th>\n",
       "      <td>BB&amp;T Corp</td>\n",
       "      <td>24</td>\n",
       "    </tr>\n",
       "    <tr>\n",
       "      <th>1389</th>\n",
       "      <td>Danaher Corp</td>\n",
       "      <td>20</td>\n",
       "    </tr>\n",
       "    <tr>\n",
       "      <th>1892</th>\n",
       "      <td>First Union Corp,Charlotte,NC</td>\n",
       "      <td>21</td>\n",
       "    </tr>\n",
       "    <tr>\n",
       "      <th>2613</th>\n",
       "      <td>Investor</td>\n",
       "      <td>26</td>\n",
       "    </tr>\n",
       "    <tr>\n",
       "      <th>2614</th>\n",
       "      <td>Investor Group</td>\n",
       "      <td>453</td>\n",
       "    </tr>\n",
       "    <tr>\n",
       "      <th>2711</th>\n",
       "      <td>Johnson &amp; Johnson</td>\n",
       "      <td>23</td>\n",
       "    </tr>\n",
       "    <tr>\n",
       "      <th>3612</th>\n",
       "      <td>Oracle Corp</td>\n",
       "      <td>23</td>\n",
       "    </tr>\n",
       "    <tr>\n",
       "      <th>4338</th>\n",
       "      <td>Shareholders</td>\n",
       "      <td>43</td>\n",
       "    </tr>\n",
       "  </tbody>\n",
       "</table>\n",
       "</div>"
      ],
      "text/plain": [
       "                      Acquiror Name  Date Ann\n",
       "488                       BB&T Corp        24\n",
       "1389                   Danaher Corp        20\n",
       "1892  First Union Corp,Charlotte,NC        21\n",
       "2613                       Investor        26\n",
       "2614                 Investor Group       453\n",
       "2711              Johnson & Johnson        23\n",
       "3612                    Oracle Corp        23\n",
       "4338                   Shareholders        43"
      ]
     },
     "execution_count": 22,
     "metadata": {},
     "output_type": "execute_result"
    }
   ],
   "source": [
    "temp = new_data.groupby('Acquiror Name')['Date Ann'].count().reset_index()\n",
    "\n",
    "# It is very unlikedly that one company bought more then 30 public companies. Looking at the data, some Acquirors\n",
    "# are \"Investors\" or \"Creditors\". This should be taken into account when using Acquiror Name as dependent\n",
    "# One potential alternative is to label Acquiror's into different categories. ie: frequent buyers, first time buyer,\n",
    "# Investor, creditor, insider etc.\n",
    "temp[temp['Date Ann'] >= 20]"
   ]
  },
  {
   "cell_type": "code",
   "execution_count": 23,
   "metadata": {
    "scrolled": true
   },
   "outputs": [
    {
     "data": {
      "text/html": [
       "<div>\n",
       "<style scoped>\n",
       "    .dataframe tbody tr th:only-of-type {\n",
       "        vertical-align: middle;\n",
       "    }\n",
       "\n",
       "    .dataframe tbody tr th {\n",
       "        vertical-align: top;\n",
       "    }\n",
       "\n",
       "    .dataframe thead th {\n",
       "        text-align: right;\n",
       "    }\n",
       "</style>\n",
       "<table border=\"1\" class=\"dataframe\">\n",
       "  <thead>\n",
       "    <tr style=\"text-align: right;\">\n",
       "      <th></th>\n",
       "      <th>Target Industry</th>\n",
       "      <th>Date Ann</th>\n",
       "    </tr>\n",
       "  </thead>\n",
       "  <tbody>\n",
       "    <tr>\n",
       "      <th>7</th>\n",
       "      <td>Commercial Banks, Bank Holding Companies</td>\n",
       "      <td>1118</td>\n",
       "    </tr>\n",
       "    <tr>\n",
       "      <th>5</th>\n",
       "      <td>Business Services</td>\n",
       "      <td>777</td>\n",
       "    </tr>\n",
       "    <tr>\n",
       "      <th>47</th>\n",
       "      <td>Savings and Loans, Mutual Savings Banks</td>\n",
       "      <td>527</td>\n",
       "    </tr>\n",
       "    <tr>\n",
       "      <th>35</th>\n",
       "      <td>Prepackaged Software</td>\n",
       "      <td>511</td>\n",
       "    </tr>\n",
       "    <tr>\n",
       "      <th>25</th>\n",
       "      <td>Measuring, Medical, Photo Equipment; Clocks</td>\n",
       "      <td>470</td>\n",
       "    </tr>\n",
       "    <tr>\n",
       "      <th>21</th>\n",
       "      <td>Investment &amp; Commodity Firms,Dealers,Exchanges</td>\n",
       "      <td>440</td>\n",
       "    </tr>\n",
       "    <tr>\n",
       "      <th>15</th>\n",
       "      <td>Electronic and Electrical Equipment</td>\n",
       "      <td>367</td>\n",
       "    </tr>\n",
       "    <tr>\n",
       "      <th>12</th>\n",
       "      <td>Drugs</td>\n",
       "      <td>358</td>\n",
       "    </tr>\n",
       "    <tr>\n",
       "      <th>31</th>\n",
       "      <td>Oil and Gas; Petroleum Refining</td>\n",
       "      <td>288</td>\n",
       "    </tr>\n",
       "    <tr>\n",
       "      <th>20</th>\n",
       "      <td>Insurance</td>\n",
       "      <td>281</td>\n",
       "    </tr>\n",
       "    <tr>\n",
       "      <th>17</th>\n",
       "      <td>Health Services</td>\n",
       "      <td>257</td>\n",
       "    </tr>\n",
       "    <tr>\n",
       "      <th>14</th>\n",
       "      <td>Electric, Gas, and Water Distribution</td>\n",
       "      <td>222</td>\n",
       "    </tr>\n",
       "    <tr>\n",
       "      <th>24</th>\n",
       "      <td>Machinery</td>\n",
       "      <td>196</td>\n",
       "    </tr>\n",
       "    <tr>\n",
       "      <th>51</th>\n",
       "      <td>Telecommunications</td>\n",
       "      <td>195</td>\n",
       "    </tr>\n",
       "    <tr>\n",
       "      <th>9</th>\n",
       "      <td>Computer and Office Equipment</td>\n",
       "      <td>181</td>\n",
       "    </tr>\n",
       "    <tr>\n",
       "      <th>26</th>\n",
       "      <td>Metal and Metal Products</td>\n",
       "      <td>174</td>\n",
       "    </tr>\n",
       "    <tr>\n",
       "      <th>29</th>\n",
       "      <td>Miscellaneous Retail Trade</td>\n",
       "      <td>161</td>\n",
       "    </tr>\n",
       "    <tr>\n",
       "      <th>8</th>\n",
       "      <td>Communications Equipment</td>\n",
       "      <td>157</td>\n",
       "    </tr>\n",
       "    <tr>\n",
       "      <th>56</th>\n",
       "      <td>Wholesale Trade-Durable Goods</td>\n",
       "      <td>145</td>\n",
       "    </tr>\n",
       "    <tr>\n",
       "      <th>16</th>\n",
       "      <td>Food and Kindred Products</td>\n",
       "      <td>135</td>\n",
       "    </tr>\n",
       "    <tr>\n",
       "      <th>55</th>\n",
       "      <td>Transportation and Shipping (except air)</td>\n",
       "      <td>127</td>\n",
       "    </tr>\n",
       "    <tr>\n",
       "      <th>41</th>\n",
       "      <td>Retail Trade-Eating and Drinking Places</td>\n",
       "      <td>121</td>\n",
       "    </tr>\n",
       "    <tr>\n",
       "      <th>38</th>\n",
       "      <td>Radio and Television Broadcasting Stations</td>\n",
       "      <td>120</td>\n",
       "    </tr>\n",
       "    <tr>\n",
       "      <th>19</th>\n",
       "      <td>Hotels and Casinos</td>\n",
       "      <td>112</td>\n",
       "    </tr>\n",
       "    <tr>\n",
       "      <th>6</th>\n",
       "      <td>Chemicals and Allied Products</td>\n",
       "      <td>108</td>\n",
       "    </tr>\n",
       "    <tr>\n",
       "      <th>39</th>\n",
       "      <td>Real Estate; Mortgage Bankers and Brokers</td>\n",
       "      <td>108</td>\n",
       "    </tr>\n",
       "    <tr>\n",
       "      <th>43</th>\n",
       "      <td>Retail Trade-General Merchandise and Apparel</td>\n",
       "      <td>85</td>\n",
       "    </tr>\n",
       "    <tr>\n",
       "      <th>54</th>\n",
       "      <td>Transportation Equipment</td>\n",
       "      <td>75</td>\n",
       "    </tr>\n",
       "    <tr>\n",
       "      <th>45</th>\n",
       "      <td>Rubber and Miscellaneous Plastic Products</td>\n",
       "      <td>73</td>\n",
       "    </tr>\n",
       "    <tr>\n",
       "      <th>57</th>\n",
       "      <td>Wholesale Trade-Nondurable Goods</td>\n",
       "      <td>71</td>\n",
       "    </tr>\n",
       "    <tr>\n",
       "      <th>36</th>\n",
       "      <td>Printing, Publishing, and Allied Services</td>\n",
       "      <td>69</td>\n",
       "    </tr>\n",
       "    <tr>\n",
       "      <th>52</th>\n",
       "      <td>Textile and Apparel Products</td>\n",
       "      <td>68</td>\n",
       "    </tr>\n",
       "    <tr>\n",
       "      <th>11</th>\n",
       "      <td>Credit Institutions</td>\n",
       "      <td>68</td>\n",
       "    </tr>\n",
       "    <tr>\n",
       "      <th>28</th>\n",
       "      <td>Miscellaneous Manufacturing</td>\n",
       "      <td>67</td>\n",
       "    </tr>\n",
       "    <tr>\n",
       "      <th>30</th>\n",
       "      <td>Motion Picture Production and Distribution</td>\n",
       "      <td>65</td>\n",
       "    </tr>\n",
       "    <tr>\n",
       "      <th>27</th>\n",
       "      <td>Mining</td>\n",
       "      <td>63</td>\n",
       "    </tr>\n",
       "    <tr>\n",
       "      <th>10</th>\n",
       "      <td>Construction Firms</td>\n",
       "      <td>61</td>\n",
       "    </tr>\n",
       "    <tr>\n",
       "      <th>33</th>\n",
       "      <td>Paper and Allied Products</td>\n",
       "      <td>60</td>\n",
       "    </tr>\n",
       "    <tr>\n",
       "      <th>42</th>\n",
       "      <td>Retail Trade-Food Stores</td>\n",
       "      <td>51</td>\n",
       "    </tr>\n",
       "    <tr>\n",
       "      <th>3</th>\n",
       "      <td>Air Transportation and Shipping</td>\n",
       "      <td>43</td>\n",
       "    </tr>\n",
       "    <tr>\n",
       "      <th>46</th>\n",
       "      <td>Sanitary Services</td>\n",
       "      <td>42</td>\n",
       "    </tr>\n",
       "    <tr>\n",
       "      <th>48</th>\n",
       "      <td>Soaps, Cosmetics, and Personal-Care Products</td>\n",
       "      <td>42</td>\n",
       "    </tr>\n",
       "    <tr>\n",
       "      <th>44</th>\n",
       "      <td>Retail Trade-Home Furnishings</td>\n",
       "      <td>42</td>\n",
       "    </tr>\n",
       "    <tr>\n",
       "      <th>58</th>\n",
       "      <td>Wood Products, Furniture, and Fixtures</td>\n",
       "      <td>42</td>\n",
       "    </tr>\n",
       "    <tr>\n",
       "      <th>4</th>\n",
       "      <td>Amusement and Recreation Services</td>\n",
       "      <td>41</td>\n",
       "    </tr>\n",
       "    <tr>\n",
       "      <th>1</th>\n",
       "      <td>Aerospace and Aircraft</td>\n",
       "      <td>38</td>\n",
       "    </tr>\n",
       "    <tr>\n",
       "      <th>50</th>\n",
       "      <td>Stone, Clay, Glass, and Concrete Products</td>\n",
       "      <td>36</td>\n",
       "    </tr>\n",
       "    <tr>\n",
       "      <th>0</th>\n",
       "      <td>Advertising Services</td>\n",
       "      <td>30</td>\n",
       "    </tr>\n",
       "    <tr>\n",
       "      <th>13</th>\n",
       "      <td>Educational Services</td>\n",
       "      <td>26</td>\n",
       "    </tr>\n",
       "    <tr>\n",
       "      <th>2</th>\n",
       "      <td>Agriculture, Forestry, and Fishing</td>\n",
       "      <td>24</td>\n",
       "    </tr>\n",
       "    <tr>\n",
       "      <th>40</th>\n",
       "      <td>Repair Services</td>\n",
       "      <td>23</td>\n",
       "    </tr>\n",
       "    <tr>\n",
       "      <th>34</th>\n",
       "      <td>Personal Services</td>\n",
       "      <td>23</td>\n",
       "    </tr>\n",
       "    <tr>\n",
       "      <th>22</th>\n",
       "      <td>Leather and Leather Products</td>\n",
       "      <td>20</td>\n",
       "    </tr>\n",
       "    <tr>\n",
       "      <th>32</th>\n",
       "      <td>Other Financial</td>\n",
       "      <td>17</td>\n",
       "    </tr>\n",
       "    <tr>\n",
       "      <th>49</th>\n",
       "      <td>Social Services</td>\n",
       "      <td>9</td>\n",
       "    </tr>\n",
       "    <tr>\n",
       "      <th>53</th>\n",
       "      <td>Tobacco Products</td>\n",
       "      <td>4</td>\n",
       "    </tr>\n",
       "    <tr>\n",
       "      <th>18</th>\n",
       "      <td>Holding Companies, Except Banks</td>\n",
       "      <td>2</td>\n",
       "    </tr>\n",
       "    <tr>\n",
       "      <th>37</th>\n",
       "      <td>Public Administration</td>\n",
       "      <td>1</td>\n",
       "    </tr>\n",
       "    <tr>\n",
       "      <th>23</th>\n",
       "      <td>Legal Services</td>\n",
       "      <td>1</td>\n",
       "    </tr>\n",
       "  </tbody>\n",
       "</table>\n",
       "</div>"
      ],
      "text/plain": [
       "                                   Target Industry  Date Ann\n",
       "7         Commercial Banks, Bank Holding Companies      1118\n",
       "5                                Business Services       777\n",
       "47         Savings and Loans, Mutual Savings Banks       527\n",
       "35                            Prepackaged Software       511\n",
       "25     Measuring, Medical, Photo Equipment; Clocks       470\n",
       "21  Investment & Commodity Firms,Dealers,Exchanges       440\n",
       "15             Electronic and Electrical Equipment       367\n",
       "12                                           Drugs       358\n",
       "31                 Oil and Gas; Petroleum Refining       288\n",
       "20                                       Insurance       281\n",
       "17                                 Health Services       257\n",
       "14           Electric, Gas, and Water Distribution       222\n",
       "24                                       Machinery       196\n",
       "51                              Telecommunications       195\n",
       "9                    Computer and Office Equipment       181\n",
       "26                        Metal and Metal Products       174\n",
       "29                      Miscellaneous Retail Trade       161\n",
       "8                         Communications Equipment       157\n",
       "56                   Wholesale Trade-Durable Goods       145\n",
       "16                       Food and Kindred Products       135\n",
       "55        Transportation and Shipping (except air)       127\n",
       "41         Retail Trade-Eating and Drinking Places       121\n",
       "38      Radio and Television Broadcasting Stations       120\n",
       "19                              Hotels and Casinos       112\n",
       "6                    Chemicals and Allied Products       108\n",
       "39       Real Estate; Mortgage Bankers and Brokers       108\n",
       "43    Retail Trade-General Merchandise and Apparel        85\n",
       "54                        Transportation Equipment        75\n",
       "45       Rubber and Miscellaneous Plastic Products        73\n",
       "57                Wholesale Trade-Nondurable Goods        71\n",
       "36       Printing, Publishing, and Allied Services        69\n",
       "52                    Textile and Apparel Products        68\n",
       "11                             Credit Institutions        68\n",
       "28                     Miscellaneous Manufacturing        67\n",
       "30      Motion Picture Production and Distribution        65\n",
       "27                                          Mining        63\n",
       "10                              Construction Firms        61\n",
       "33                       Paper and Allied Products        60\n",
       "42                        Retail Trade-Food Stores        51\n",
       "3                  Air Transportation and Shipping        43\n",
       "46                               Sanitary Services        42\n",
       "48    Soaps, Cosmetics, and Personal-Care Products        42\n",
       "44                   Retail Trade-Home Furnishings        42\n",
       "58          Wood Products, Furniture, and Fixtures        42\n",
       "4                Amusement and Recreation Services        41\n",
       "1                           Aerospace and Aircraft        38\n",
       "50       Stone, Clay, Glass, and Concrete Products        36\n",
       "0                             Advertising Services        30\n",
       "13                            Educational Services        26\n",
       "2               Agriculture, Forestry, and Fishing        24\n",
       "40                                 Repair Services        23\n",
       "34                               Personal Services        23\n",
       "22                    Leather and Leather Products        20\n",
       "32                                 Other Financial        17\n",
       "49                                 Social Services         9\n",
       "53                                Tobacco Products         4\n",
       "18                 Holding Companies, Except Banks         2\n",
       "37                           Public Administration         1\n",
       "23                                  Legal Services         1"
      ]
     },
     "execution_count": 23,
     "metadata": {},
     "output_type": "execute_result"
    }
   ],
   "source": [
    "new_data.groupby('Target Industry')['Date Ann'].count().reset_index().sort_values(by='Date Ann', ascending = False)\n",
    "# Commercial Banks are most likely the target, while public administration and legal service are least likely"
   ]
  },
  {
   "cell_type": "code",
   "execution_count": 24,
   "metadata": {
    "collapsed": true
   },
   "outputs": [],
   "source": [
    "def true_false(x):\n",
    "    if x == True:\n",
    "        return (1)\n",
    "    elif x == False:\n",
    "        return (-1)\n",
    "    else:\n",
    "        return x\n",
    "def to_num(x):\n",
    "    if x == 'Completed':\n",
    "        return (1)\n",
    "    else:\n",
    "        return (-1)\n",
    "    \n",
    "def to_num_0(x):\n",
    "    if x == 'Completed':\n",
    "        return (1)\n",
    "    else:\n",
    "        return (0)\n",
    "    \n",
    "def clean_data(x):\n",
    "    if isinstance(x, float) == True:\n",
    "        return (x)\n",
    "    elif isinstance(x, int) == True:\n",
    "        return (x)\n",
    "    else:\n",
    "        return (np.nan)\n",
    "    \n",
    "def find_ff_ind(x):\n",
    "    try: x = int(x)\n",
    "    except: return (30)\n",
    "    a = sic[(sic['sic1']<= x)& (sic['sic2']>=x)]['ff30']\n",
    "    try: \n",
    "        a = int(a)\n",
    "    except: \n",
    "        #print (a)\n",
    "        return (30)\n",
    "    return (a)"
   ]
  },
  {
   "cell_type": "code",
   "execution_count": null,
   "metadata": {
    "collapsed": true
   },
   "outputs": [],
   "source": []
  },
  {
   "cell_type": "code",
   "execution_count": 25,
   "metadata": {
    "collapsed": true
   },
   "outputs": [],
   "source": [
    "# Valuation Ratios\n",
    "new_data['cap'] = new_data['Price Per Share'] * new_data['Shares Out Actual']\n",
    "new_data['cap_diff'] = new_data['Acquiror Market Val 4 Weeks Prior'] - new_data['cap']\n",
    "new_data['Offer EP'] =  new_data['Target Earnings Per Share LTM'] / new_data['Price Per Share'] \n",
    "new_data['Past EP'] =  new_data['Target Earnings Per Share LTM']/new_data['Target Share Price 1 Day Prior to Announcement'] \n",
    "\n",
    "new_data['Offer BP'] = new_data['Target Book Value Per Share LTM'] / new_data['Price Per Share']\n",
    "new_data['Past BP'] =  new_data['Target Book Value Per Share LTM'] / new_data['Target Share Price 1 Day Prior to Announcement'] \n",
    "\n",
    "new_data['Offer/Current Price Diff'] = (new_data['Target Closing Price 1 Day After Ann Date'] / new_data['Price Per Share'])-0.999\n",
    "new_data.loc[:,'price premium'] = (new_data['Price Per Share'] / new_data['Target Share Price 1 Day Prior to Announcement'])-0.999\n",
    "new_data['price jump'] = (new_data['Target Closing Price 1 Day After Ann Date'] / new_data['Target Share Price 1 Day Prior to Announcement'])-0.999"
   ]
  },
  {
   "cell_type": "code",
   "execution_count": 26,
   "metadata": {},
   "outputs": [
    {
     "data": {
      "image/png": "[encoded data removed]",
      "text/plain": [
       "<matplotlib.figure.Figure at 0x114062080>"
      ]
     },
     "metadata": {},
     "output_type": "display_data"
    }
   ],
   "source": [
    "new_data['year'] = new_data['Date Ann'].dt.year\n",
    "\n",
    "new_data['rolling_price_premium'] = new_data['price premium'].rolling(250).mean()\n",
    "new_data['price_premium_diff'] = new_data['price premium'] - new_data['rolling_price_premium']\n",
    "new_data = new_data.applymap(true_false)\n",
    "new_data['new_Status'] = new_data['Status'].apply(to_num_0)\n",
    "\n",
    "year = new_data.groupby('year')\n",
    "plt.plot(year['new_Status'].sum() / year['new_Status'].count())\n",
    "plt.title('Annual Success Rate')\n",
    "\n",
    "new_data = new_data.drop('year',axis=1)\n",
    "\n",
    "new_data['rolling_mean_long'] = new_data['new_Status'].rolling(250).mean().shift(1)\n",
    "new_data['rolling_mean_medium'] = new_data['new_Status'].rolling(100).mean().shift(1)\n",
    "new_data['rolling_mean_short'] = new_data['new_Status'].rolling(30).mean().shift(1)\n",
    "\n",
    "new_data = new_data.drop('new_Status',axis=1)\n",
    "\n",
    "# Many NaNs"
   ]
  },
  {
   "cell_type": "code",
   "execution_count": 27,
   "metadata": {
    "collapsed": true
   },
   "outputs": [],
   "source": [
    "# Time region characteristic\n",
    "\n",
    "president = {1990: 'R',1991:'R',1992:'R',1993:'D',1994:'D',1995:'D',1996:'D',1997:'D',1998:'D',1999:'D',2000:'D',\n",
    "              2001:'R',2002:'R',2003:'R',2004:'R',2005:'R',2006:'R',2007:'R',2008:'R',2009:'D',2010:'D',2011:'D',\n",
    "              2012:'D',2013:'D',2014:'D',2015:'D',2016:'D',2017:'R'}\n",
    "new_data['president'] = new_data['Date Ann'].dt.year.apply(lambda x: president[x])\n",
    "new_data['Democrat'] = new_data['president'].apply(lambda x: 1 if x == 'D' else -1)\n",
    "new_data = new_data.drop('president',axis=1)"
   ]
  },
  {
   "cell_type": "code",
   "execution_count": 28,
   "metadata": {
    "collapsed": true
   },
   "outputs": [],
   "source": [
    "# Deal characteristics\n",
    "temp = new_data.groupby('Acquiror Name')['Date Ann'].count().reset_index()\n",
    "temp['First Time'] = (temp['Date Ann'] == 1)\n",
    "temp['Experienced'] = (temp['Date Ann'].between(2,10))\n",
    "temp['Frequent'] = (temp['Date Ann'].between(11,25))\n",
    "acq_name = list(temp[temp['Date Ann'] > 25]['Acquiror Name'])\n",
    "for acq in acq_name:\n",
    "    temp.loc[:, acq] = temp['Acquiror Name'].apply(lambda x: 1 if x == acq else -1)\n",
    "temp = temp.drop('Date Ann', axis=1)\n",
    "\n",
    "new_data = new_data.merge(temp, how = 'left',on='Acquiror Name')\n",
    "\n",
    "new_data.loc[:,'nation diff'] = (new_data['Target Nation'] == new_data['Acquiror Nation'])\n",
    "\n",
    "# This needs to be changed to fama industry classification\n",
    "new_data.loc[:,'industry diff'] = (new_data['Target Industry'] == new_data['Acquiror Industry'])\n",
    "\n",
    "sic = pd.read_csv('Siccodes30.csv')\n",
    "new_data['fama_ind'] = new_data['Target Primary SIC Code'].apply(lambda x: find_ff_ind(x))\n",
    "\n",
    "new_data.groupby('fama_ind')['fama_ind'].count()\n",
    "\n",
    "ind_list = list(set(new_data['fama_ind']))\n",
    "\n",
    "for industry in ind_list:\n",
    "    new_data.loc[:, industry] = new_data['fama_ind'].apply(lambda x: 1 if int(x) == int(industry) else -1)\n",
    "#nation_list = list(set(new_data['Acquiror Nation']))\n",
    "#for nation in nation_list:\n",
    "#    new_data.loc[:, nation] = new_data['Acquiror Nation'].apply(lambda x: 1 if x == nation else 0)\n",
    "new_data['year'] = new_data['Date Ann'].dt.year\n"
   ]
  },
  {
   "cell_type": "code",
   "execution_count": 29,
   "metadata": {
    "collapsed": true
   },
   "outputs": [],
   "source": [
    "new_data = new_data.applymap(true_false)\n",
    "new_data['new_Status'] = new_data['Status'].apply(to_num)"
   ]
  },
  {
   "cell_type": "code",
   "execution_count": 30,
   "metadata": {
    "collapsed": true
   },
   "outputs": [],
   "source": [
    "new_data.to_csv('final_data.csv')"
   ]
  },
  {
   "cell_type": "code",
   "execution_count": null,
   "metadata": {
    "collapsed": true
   },
   "outputs": [],
   "source": [
    "#new_data[new_data[1]==1]\n",
    "#new_data['Acquiror Primary SIC Code']"
   ]
  },
  {
   "cell_type": "code",
   "execution_count": null,
   "metadata": {
    "collapsed": true
   },
   "outputs": [],
   "source": [
    "# % of share is based on sucess/failure\n",
    "#new_data['% share'] = new_data['% of Shares Acq.']\n",
    "#new_data['total cost'] = new_data['% of Shares Acq.'] * new_data['Price Per Share'] * new_data['Shares Out Actual']"
   ]
  },
  {
   "cell_type": "code",
   "execution_count": 34,
   "metadata": {},
   "outputs": [],
   "source": [
    "new_data = pd.read_csv('final_data.csv',parse_dates=[1]).iloc[:,1:]"
   ]
  },
  {
   "cell_type": "code",
   "execution_count": 91,
   "metadata": {},
   "outputs": [
    {
     "data": {
      "image/png": "[encoded data removed]",
      "text/plain": [
       "<matplotlib.figure.Figure at 0x11847bd30>"
      ]
     },
     "metadata": {},
     "output_type": "display_data"
    }
   ],
   "source": [
    "plt.figure(figsize=(20,10))\n",
    "plt.subplot(321)\n",
    "plt.hist(new_data[new_data['Offer/Current Price Diff']<1]['Offer/Current Price Diff'], bins=50)\n",
    "plt.title('Offer/Current Price Diff')\n",
    "\n",
    "plt.subplot(322)\n",
    "plt.hist(new_data[new_data['price premium']<4]['price premium'], bins = 50)\n",
    "plt.title('Price Premium')\n",
    "\n",
    "\n",
    "plt.subplot(323)\n",
    "plt.hist(new_data[new_data['cap_diff']<100000]['cap_diff'], bins = 50)\n",
    "plt.title('Cap Diff')\n",
    "\n",
    "temp = new_data.groupby('Acquiror Name')['Date Ann'].count().reset_index()\n",
    "plt.subplot(324)\n",
    "plt.hist(temp[temp['Date Ann']<=20]['Date Ann'], bins = 20)\n",
    "plt.title('Buyer Experience')\n",
    "\n",
    "plt.subplot(325)\n",
    "plt.hist(new_data[new_data['Offer EP'].between(-1,1)]['Offer EP'], bins = 50)\n",
    "plt.title('Offer EP')\n",
    "\n",
    "plt.subplot(326)\n",
    "plt.hist(new_data[new_data['Offer BP'].between(-2,2)]['Offer BP'], bins = 50)\n",
    "plt.title('Offer BP')\n",
    "\n",
    "plt.show()"
   ]
  },
  {
   "cell_type": "code",
   "execution_count": null,
   "metadata": {
    "collapsed": true
   },
   "outputs": [],
   "source": [
    "sum(new_data['% of Shares Acq.'].isnull())"
   ]
  },
  {
   "cell_type": "code",
   "execution_count": null,
   "metadata": {
    "collapsed": true
   },
   "outputs": [],
   "source": []
  },
  {
   "cell_type": "code",
   "execution_count": 113,
   "metadata": {},
   "outputs": [
    {
     "name": "stdout",
     "output_type": "stream",
     "text": [
      "(2057, 74)\n",
      "(6981, 74)\n"
     ]
    }
   ],
   "source": [
    "# Split Train, Val, Test data\n",
    "\n",
    "test_data = new_data[new_data['Date Ann']> '2008']\n",
    "#val_data = new_data[(new_data['Date Ann'].between('2013','2015'))]\n",
    "train_data = new_data[new_data['Date Ann']< '2008']\n",
    "\n",
    "train_data = train_data.iloc[:,27:].applymap(clean_data)#.fillna(0)\n",
    "train_data = train_data.drop(['Target Ticker','Acquiror Ticker'],axis=1)\n",
    "train_data = train_data.drop(['Target CUSIP','Acquiror CUSIP'],axis=1)\n",
    "\n",
    "\n",
    "test_data = test_data.iloc[:,27:].applymap(clean_data)#.fillna(0)\n",
    "test_data = test_data.drop(['Target Ticker','Acquiror Ticker'],axis=1)\n",
    "test_data = test_data.drop(['Target CUSIP','Acquiror CUSIP'],axis=1)\n",
    "\n",
    "print (test_data.shape)\n",
    "#print (val_data.shape)\n",
    "print (train_data.shape)"
   ]
  },
  {
   "cell_type": "code",
   "execution_count": null,
   "metadata": {
    "collapsed": true
   },
   "outputs": [],
   "source": [
    "train_data.to_csv('train_data.csv')\n",
    "test_data.to_csv('test_data.csv')"
   ]
  },
  {
   "cell_type": "code",
   "execution_count": null,
   "metadata": {
    "collapsed": true
   },
   "outputs": [],
   "source": [
    "new_train_data = pd.read_csv('new_train_data.csv')\n",
    "new_train_data.columns = columns[0:27]\n",
    "train_data = pd.concat([new_train_data,train_data.iloc[:,27:].reset_index(drop=True)],axis=1)\n",
    "\n",
    "new_test_data = pd.read_csv('new_test_data.csv')\n",
    "new_test_data.columns = columns[0:27]\n",
    "test_data = pd.concat([new_test_data,test_data.iloc[:,27:].reset_index(drop=True)],axis=1)"
   ]
  },
  {
   "cell_type": "code",
   "execution_count": 114,
   "metadata": {},
   "outputs": [
    {
     "name": "stdout",
     "output_type": "stream",
     "text": [
      "(2057, 74)\n",
      "(6981, 74)\n"
     ]
    }
   ],
   "source": [
    "print (test_data.shape)\n",
    "print (train_data.shape)\n",
    "\n",
    "y = train_data['new_Status']\n",
    "x = train_data.drop('new_Status',axis=1)\n",
    "# For some rolling variables\n",
    "x = x.fillna(0)\n",
    "\n",
    "columns=x.columns\n",
    "x_new = test_data.drop('new_Status',axis=1)\n",
    "\n",
    "x_new = x_new.fillna(0)"
   ]
  },
  {
   "cell_type": "code",
   "execution_count": null,
   "metadata": {
    "collapsed": true,
    "scrolled": true
   },
   "outputs": [],
   "source": [
    "test_data"
   ]
  },
  {
   "cell_type": "code",
   "execution_count": null,
   "metadata": {
    "collapsed": true
   },
   "outputs": [],
   "source": [
    "from sklearn.model_selection import train_test_split\n",
    "model_data = new_data.iloc[:,27:].applymap(clean_data)#.fillna(0)\n",
    "model_data = model_data.drop(['Target Ticker','Acquiror Ticker'],axis=1)\n",
    "model_data = model_data.drop(['Target CUSIP','Acquiror CUSIP'],axis=1)\n",
    "\n",
    "train_data, test_data = train_test_split(model_data, test_size=0.2, random_state=0)\n",
    "\n",
    "y = train_data['new_Status']\n",
    "x = train_data.drop('new_Status',axis=1)\n",
    "columns=x.columns\n",
    "x_new = test_data.drop('new_Status',axis=1)"
   ]
  },
  {
   "cell_type": "code",
   "execution_count": 62,
   "metadata": {
    "collapsed": true
   },
   "outputs": [],
   "source": [
    "from sklearn import preprocessing\n",
    "\n",
    "from sklearn.preprocessing import Imputer\n",
    "imp = Imputer(missing_values='NaN', strategy='median', axis=0)\n",
    "#columns=x.columns\n",
    "x = imp.fit_transform(x)\n",
    "#x_scaled = preprocessing.scale(x)\n",
    "x_new= imp.transform(x_new)\n",
    "#x_new_scaled = preprocessing.scale(x_new)"
   ]
  },
  {
   "cell_type": "code",
   "execution_count": null,
   "metadata": {
    "collapsed": true
   },
   "outputs": [],
   "source": [
    "from sklearn import decomposition\n",
    "pca = decomposition.PCA(n_components=15)\n",
    "pca.fit(x)\n",
    "x = pca.transform(x)\n",
    "x_new = pca.transform(x_new)"
   ]
  },
  {
   "cell_type": "code",
   "execution_count": null,
   "metadata": {
    "collapsed": true
   },
   "outputs": [],
   "source": [
    "pca.explained_variance_"
   ]
  },
  {
   "cell_type": "code",
   "execution_count": null,
   "metadata": {
    "collapsed": true
   },
   "outputs": [],
   "source": [
    "#train_data = train_data[train_data['price premium'] != np.nan]\n",
    "#train_data = train_data[train_data['price premium'] != np.nan]"
   ]
  },
  {
   "cell_type": "code",
   "execution_count": 94,
   "metadata": {},
   "outputs": [
    {
     "name": "stdout",
     "output_type": "stream",
     "text": [
      "0.768830417811\n",
      "0.751831949194\n"
     ]
    }
   ],
   "source": [
    "from sklearn import linear_model\n",
    "log = linear_model.LogisticRegression('l1',C=0.01,tol=5.5 ,class_weight= None)\n",
    "\n",
    "log.fit(x, y)\n",
    "\n",
    "y_pred = log.predict(x_new)\n",
    "y_new = test_data['new_Status']\n",
    "\n",
    "score = log.score(x, y)\n",
    "print (score)\n",
    "\n",
    "score = log.score(x_new, y_new)\n",
    "print (score)"
   ]
  },
  {
   "cell_type": "code",
   "execution_count": 117,
   "metadata": {},
   "outputs": [
    {
     "name": "stdout",
     "output_type": "stream",
     "text": [
      "EV to EBIT: -5.4536514307e-05\n",
      "Acquiror Cash LTM: 1.47885616748e-05\n",
      "cap: 1.57006837714e-06\n",
      "cap_diff: 2.69486543768e-06\n",
      "Offer EP: 0.000589188782392\n",
      "Offer BP: 1.87907017981e-06\n",
      "Past BP: 6.26154450887e-07\n",
      "First Time: -0.0332675193914\n",
      "Experienced: 0.048624734511\n",
      "Frequent: 0.0242889842438\n",
      "Investor: -0.0849301529333\n",
      "nation diff: 0.118327827358\n",
      "industry diff: -0.003809584803\n",
      "7: -1.00939713749\n",
      "9: 0.0015270446683\n",
      "23: -0.416548902434\n",
      "24: -0.0375855938523\n",
      "30: -2.01838448637e-05\n"
     ]
    }
   ],
   "source": [
    "coefs = log.coef_[0]\n",
    "count=0\n",
    "for i in range(len(coefs)):\n",
    "    if coefs[i]!=0:\n",
    "        print (str(columns[i]) +': '+ str(coefs[i]))\n",
    "    count+=1"
   ]
  },
  {
   "cell_type": "code",
   "execution_count": null,
   "metadata": {
    "collapsed": true
   },
   "outputs": [],
   "source": []
  },
  {
   "cell_type": "code",
   "execution_count": 115,
   "metadata": {
    "scrolled": true
   },
   "outputs": [
    {
     "name": "stdout",
     "output_type": "stream",
     "text": [
      "0.974358974359\n",
      "0.837627613029\n",
      "0.983957219251\n"
     ]
    }
   ],
   "source": [
    "from sklearn.ensemble import RandomForestClassifier\n",
    "clf = RandomForestClassifier(n_estimators = 50, max_depth=20 ,max_features='auto' ,\n",
    "                             random_state=0, criterion='entropy', min_samples_split=4 ,class_weight=None)\n",
    "\n",
    "clf.fit(x, y)\n",
    "\n",
    "y_pred = clf.predict(x_new)\n",
    "y_new = test_data['new_Status']\n",
    "\n",
    "score = clf.score(x, y)\n",
    "print (score)\n",
    "\n",
    "score = clf.score(x_new, y_new)\n",
    "print (score)\n",
    "\n",
    "print ((y_pred==1).sum()/len(y_pred))"
   ]
  },
  {
   "cell_type": "code",
   "execution_count": 116,
   "metadata": {},
   "outputs": [
    {
     "name": "stdout",
     "output_type": "stream",
     "text": [
      "0.836169178415\n",
      "0.983957219251\n"
     ]
    }
   ],
   "source": [
    "print ((y_new==1).sum() / len(y_new))\n",
    "print ((y_pred==1).sum()/len(y_pred))"
   ]
  },
  {
   "cell_type": "code",
   "execution_count": 119,
   "metadata": {
    "scrolled": true
   },
   "outputs": [
    {
     "name": "stdout",
     "output_type": "stream",
     "text": [
      "Feature ranking:\n",
      "feature Offer/Current Price Diff 0.0788401717971\n",
      "feature cap_diff 0.062804281795\n",
      "feature Offer BP 0.0554462985538\n",
      "feature Past BP 0.0544859157659\n",
      "feature cap 0.0476238729208\n",
      "feature price jump 0.0469716750388\n",
      "feature Offer EP 0.0456862251303\n",
      "feature Past EP 0.0448397303905\n",
      "feature price_premium_diff 0.0438113308931\n",
      "feature price premium 0.0426225751775\n",
      "feature rolling_price_premium 0.0412696568736\n",
      "feature EV to EBIT 0.0390566184742\n",
      "feature Acquiror Cash LTM 0.0385345839146\n",
      "feature rolling_mean_long 0.0347962962681\n",
      "feature rolling_mean_medium 0.0322830032978\n",
      "feature year 0.027815273704\n",
      "feature rolling_mean_short 0.0274699588024\n",
      "feature fama_ind 0.0251474597653\n",
      "feature Investor Group 0.0121246613806\n",
      "feature industry diff 0.00955223823903\n",
      "feature Target Vol jump 30 Shift 0.00860178871006\n",
      "feature 29 0.00831103014696\n",
      "feature Acquiror Vol jump 30 0.00809514783543\n",
      "feature Acquiror Vol jump 30 Shift 0.00760898579478\n",
      "feature Experienced 0.00749292756961\n",
      "feature Target Vol jump 30 0.00734596857048\n",
      "feature Acquiror Volatility 14 Shift 0.00666693297621\n",
      "feature Target Volatility 30 Shift 0.00665861208956\n",
      "feature First Time 0.0065550279414\n",
      "feature Acquiror Volatility 14 0.00649047650314\n",
      "feature Target Volatility 14 0.00648653389354\n",
      "feature Acquiror Vol jump 14 Shift 0.00643942287286\n",
      "feature Target Vol jump 14 0.00641703402354\n",
      "feature Acquiror Vol jump 14 0.00631910922589\n",
      "feature Acquiror Volatility 30 Shift 0.00624458073197\n",
      "feature Acquiror Volatility 30 0.00583781387682\n",
      "feature Target Volatility 30 0.00583664665333\n",
      "feature Target Vol jump 14 Shift 0.00577254050373\n",
      "feature Democrat 0.00547048323732\n",
      "feature Target Volatility 14 Shift 0.00525478604605\n",
      "feature nation diff 0.00438216547997\n",
      "feature 22 0.004233706939\n",
      "feature 8 0.00347355627754\n",
      "feature 25 0.00334902092694\n",
      "feature 23 0.00325419910907\n",
      "feature 28 0.00318344205014\n",
      "feature 21 0.00268076500046\n",
      "feature 4 0.00257864399545\n",
      "feature Frequent 0.00239970559625\n",
      "feature 27 0.0023874678042\n",
      "feature 20 0.0020362242873\n",
      "feature 11 0.00194428807575\n",
      "feature 13 0.00185979350417\n",
      "feature 26 0.00171048718762\n",
      "feature 19 0.00160669074311\n",
      "feature Investor 0.0016058220724\n",
      "feature 9 0.00146155915029\n",
      "feature 30 0.0013302968013\n",
      "feature 15 0.00128492460564\n",
      "feature 6 0.00118361943954\n",
      "feature 16 0.00102679752602\n",
      "feature 1 0.00101397159133\n",
      "feature 12 0.000973932722911\n",
      "feature Shareholders 0.000956083999309\n",
      "feature 14 0.000824068868621\n",
      "feature 24 0.000622701508826\n",
      "feature 17 0.000500707475853\n",
      "feature 7 0.00036526846556\n"
     ]
    },
    {
     "data": {
      "image/png": "[encoded data removed]",
      "text/plain": [
       "<matplotlib.figure.Figure at 0x1170a9ef0>"
      ]
     },
     "metadata": {},
     "output_type": "display_data"
    }
   ],
   "source": [
    "importances = clf.feature_importances_\n",
    "std = np.std([tree.feature_importances_ for tree in clf.estimators_],\n",
    "             axis=0)\n",
    "indices = np.argsort(importances)[::-1]\n",
    "\n",
    "# Print the feature ranking\n",
    "print(\"Feature ranking:\")\n",
    "\n",
    "count = 0\n",
    "for f in range(x.shape[1]):\n",
    "    count +=1\n",
    "    print(\"feature\" , columns[int(indices[f])] , importances[indices[f]])\n",
    "    if importances[indices[f]]<0.0005:\n",
    "        break\n",
    "\n",
    "#count = 20\n",
    "# Plot the feature importances of the forest\n",
    "plt.figure(figsize=(20,10))\n",
    "plt.title(\"Feature importances\")\n",
    "plt.bar(range(count), importances[indices[:count]],\n",
    "       color=\"r\", yerr=std[indices[:count]], align=\"center\")\n",
    "plt.xticks(range(count), columns[indices],rotation=60)\n",
    "plt.xlim([-1, count])\n",
    "plt.show()"
   ]
  },
  {
   "cell_type": "code",
   "execution_count": 40,
   "metadata": {
    "collapsed": true
   },
   "outputs": [],
   "source": [
    "from sklearn import tree\n",
    "from sklearn import metrics\n",
    "\n",
    "model = tree.DecisionTreeClassifier(criterion='entropy',max_depth=4)"
   ]
  },
  {
   "cell_type": "code",
   "execution_count": 41,
   "metadata": {},
   "outputs": [
    {
     "data": {
      "text/plain": [
       "DecisionTreeClassifier(class_weight=None, criterion='entropy', max_depth=4,\n",
       "            max_features=None, max_leaf_nodes=None,\n",
       "            min_impurity_decrease=0.0, min_impurity_split=None,\n",
       "            min_samples_leaf=1, min_samples_split=2,\n",
       "            min_weight_fraction_leaf=0.0, presort=False, random_state=None,\n",
       "            splitter='best')"
      ]
     },
     "execution_count": 41,
     "metadata": {},
     "output_type": "execute_result"
    }
   ],
   "source": [
    "model.fit(x, y)"
   ]
  },
  {
   "cell_type": "code",
   "execution_count": 44,
   "metadata": {},
   "outputs": [
    {
     "data": {
      "text/plain": [
       "0.82237501790574419"
      ]
     },
     "execution_count": 44,
     "metadata": {},
     "output_type": "execute_result"
    }
   ],
   "source": [
    "metrics.accuracy_score(y, model.predict(x))"
   ]
  },
  {
   "cell_type": "code",
   "execution_count": 42,
   "metadata": {},
   "outputs": [
    {
     "data": {
      "text/plain": [
       "0.83082158483227997"
      ]
     },
     "execution_count": 42,
     "metadata": {},
     "output_type": "execute_result"
    }
   ],
   "source": [
    "prediction = model.predict(x_new)\n",
    "metrics.accuracy_score(y_new, prediction)"
   ]
  },
  {
   "cell_type": "code",
   "execution_count": 45,
   "metadata": {},
   "outputs": [
    {
     "data": {
      "text/plain": [
       "True"
      ]
     },
     "execution_count": 45,
     "metadata": {},
     "output_type": "execute_result"
    }
   ],
   "source": [
    "import pydot_ng\n",
    "dot_data = StringIO()\n",
    "tree.export_graphviz(model, out_file=dot_data, feature_names=x.columns.values)\n",
    "pydot_ng.graph_from_dot_data(dot_data.getvalue()).write_png('tree.png')"
   ]
  },
  {
   "cell_type": "code",
   "execution_count": null,
   "metadata": {
    "collapsed": true
   },
   "outputs": [],
   "source": [
    "#x[x['Shareholders']==1]"
   ]
  },
  {
   "cell_type": "code",
   "execution_count": 50,
   "metadata": {},
   "outputs": [
    {
     "name": "stdout",
     "output_type": "stream",
     "text": [
      "0.822948001719\n",
      "0.829363150219\n"
     ]
    }
   ],
   "source": [
    "from sklearn import neighbors\n",
    "from sklearn.neighbors import KNeighborsClassifier\n",
    "neigh = neighbors.KNeighborsClassifier(n_neighbors=20, weights='uniform')\n",
    "neigh.fit(x, y)\n",
    "\n",
    "y_pred = neigh.predict(x_new)\n",
    "y_new = test_data['new_Status']\n",
    "\n",
    "score = neigh.score(x, y)\n",
    "print (score)\n",
    "score = neigh.score(x_new, y_new)\n",
    "print (score)"
   ]
  },
  {
   "cell_type": "code",
   "execution_count": 51,
   "metadata": {},
   "outputs": [
    {
     "name": "stdout",
     "output_type": "stream",
     "text": [
      "0.835840137516\n",
      "0.824501701507\n"
     ]
    }
   ],
   "source": [
    "from sklearn.model_selection import cross_val_score\n",
    "from sklearn.ensemble import AdaBoostClassifier\n",
    "\n",
    "ada = AdaBoostClassifier(n_estimators=150)\n",
    "ada.fit(x, y)\n",
    "\n",
    "y_pred = ada.predict(x_new)\n",
    "y_new = test_data['new_Status']\n",
    "\n",
    "score = ada.score(x, y)\n",
    "print (score)\n",
    "score = ada.score(x_new, y_new)\n",
    "print (score)"
   ]
  },
  {
   "cell_type": "code",
   "execution_count": 52,
   "metadata": {},
   "outputs": [
    {
     "data": {
      "text/plain": [
       "0.82887700534759357"
      ]
     },
     "execution_count": 52,
     "metadata": {},
     "output_type": "execute_result"
    }
   ],
   "source": [
    "from sklearn import svm\n",
    "svm = svm.NuSVC(nu=0.05)#, class_weight='balanced')\n",
    "\n",
    "svm.fit(x, y)\n",
    "\n",
    "y_pred = svm.predict(x_new)\n",
    "y_new = test_data['new_Status']\n",
    "\n",
    "score = svm.score(x_new, y_new)\n",
    "score"
   ]
  },
  {
   "cell_type": "code",
   "execution_count": 53,
   "metadata": {},
   "outputs": [
    {
     "name": "stdout",
     "output_type": "stream",
     "text": [
      "0.81908036098\n",
      "0.836169178415\n"
     ]
    }
   ],
   "source": [
    "from sklearn.neural_network import MLPClassifier\n",
    "neural = MLPClassifier(solver='adam', alpha=1e-5, activation='logistic',\n",
    "                 hidden_layer_sizes=(100,), random_state=1 ,early_stopping=True) \n",
    "neural.fit(x, y)\n",
    "\n",
    "score = neural.score(x, y)\n",
    "print (score)\n",
    "\n",
    "score = neural.score(x_new, y_new)\n",
    "print (score)"
   ]
  },
  {
   "cell_type": "code",
   "execution_count": null,
   "metadata": {
    "collapsed": true
   },
   "outputs": [],
   "source": []
  },
  {
   "cell_type": "code",
   "execution_count": null,
   "metadata": {
    "collapsed": true
   },
   "outputs": [],
   "source": []
  },
  {
   "cell_type": "code",
   "execution_count": null,
   "metadata": {
    "collapsed": true
   },
   "outputs": [],
   "source": [
    "from sklearn.decomposition import PCA\n",
    "from sklearn.model_selection import GridSearchCV\n",
    "\n",
    "parameters = {'max_features':('auto','log2'), 'max_depth':list(range(10,25)), 'class_weight':(None,'balanced'),\n",
    "             'criterion': ('gini','entropy'), 'min_samples_split':(2,8,0.01)}\n",
    "\n",
    "rdm = RandomForestClassifier(n_estimators=30)\n",
    "clf = GridSearchCV(rdm, parameters)\n",
    "\n",
    "\n",
    "clf.fit(x, y)\n",
    "\n",
    "y_pred = clf.predict(x_new)\n",
    "y_new = test_data['new_Status']\n",
    "\n",
    "score = clf.score(x_new, y_new)"
   ]
  },
  {
   "cell_type": "code",
   "execution_count": null,
   "metadata": {
    "collapsed": true
   },
   "outputs": [],
   "source": [
    "clf.best_estimator_"
   ]
  },
  {
   "cell_type": "code",
   "execution_count": null,
   "metadata": {
    "collapsed": true
   },
   "outputs": [],
   "source": [
    "clf.best_score_"
   ]
  },
  {
   "cell_type": "code",
   "execution_count": null,
   "metadata": {
    "collapsed": true
   },
   "outputs": [],
   "source": [
    "x.shape"
   ]
  },
  {
   "cell_type": "code",
   "execution_count": null,
   "metadata": {
    "collapsed": true
   },
   "outputs": [],
   "source": []
  },
  {
   "cell_type": "code",
   "execution_count": null,
   "metadata": {
    "collapsed": true
   },
   "outputs": [],
   "source": []
  },
  {
   "cell_type": "code",
   "execution_count": null,
   "metadata": {
    "collapsed": true
   },
   "outputs": [],
   "source": []
  },
  {
   "cell_type": "code",
   "execution_count": null,
   "metadata": {
    "collapsed": true
   },
   "outputs": [],
   "source": [
    "import pandas as pd\n",
    " \n",
    "# laod the Fama-French 30 industry classification txt\n",
    "with open('Siccodes30.txt') as f:\n",
    "    content = f.readlines()\n",
    "# remove whitespace characters like `\\n` at the end of each line\n",
    "ff30 = [x.strip() for x in content] \n",
    " \n",
    "classification = []\n",
    "sic1 = []\n",
    "sic2 = []\n",
    "for l in ff30:\n",
    "    # if list in empty - skip\n",
    "    if not l:\n",
    "        continue\n",
    "    # if not empty, break line by space\n",
    "    l = l.split()\n",
    "    if 1<= len(l[0]) <= 2:\n",
    "        class_ = l[0]  # assign the ff49 industry classification\n",
    "        continue\n",
    "    if '-' in l[0]:\n",
    "        classification.append(class_)  # append lass classfication\n",
    "        sic1.append(l[0][:4])\n",
    "        sic2.append(l[0][5:])\n",
    " \n",
    "df = pd.DataFrame(data={'ff30': classification,\n",
    "                        'sic1': sic1,\n",
    "                        'sic2': sic2})\n",
    " \n",
    "# export the dataframe to csv\n",
    "df.to_csv('Siccodes30.csv', index=0)"
   ]
  },
  {
   "cell_type": "code",
   "execution_count": null,
   "metadata": {
    "collapsed": true
   },
   "outputs": [],
   "source": []
  },
  {
   "cell_type": "code",
   "execution_count": null,
   "metadata": {
    "collapsed": true
   },
   "outputs": [],
   "source": []
  },
  {
   "cell_type": "code",
   "execution_count": null,
   "metadata": {
    "collapsed": true
   },
   "outputs": [],
   "source": [
    "permno = pd.read_csv('PERMNO.csv')\n",
    "permno = permno.drop('DATE',axis=1)\n",
    "new_data['Acquiror CUSIP'] = new_data['Acquiror CUSIP'].apply(shorten)\n",
    "new_data['Target CUSIP'] = new_data['Target CUSIP'].apply(shorten)\n",
    "permno = permno.applymap(str)\n",
    "permno['short_NCUSIP'] = permno['NCUSIP'].apply(shorten)\n",
    "permno = permno.drop('COMNAM',axis=1)\n",
    "new_data = pd.merge(new_data,permno,left_on='Target CUSIP',right_on='short_NCUSIP',how='left')\n",
    "new_data = pd.merge(new_data,permno,left_on='Acquiror CUSIP',right_on='short_NCUSIP',how='left')\n",
    "\n",
    "temp = new_data[(new_data['Date Ann']>= '2010')&(new_data['Date Ann']< '2017')][['Target Ticker','Acquiror Ticker']]\n",
    "file = open('cusip_2017.txt','w') \n",
    "cusip = set(temp['Target Ticker'])|set(temp['Acquiror Ticker'])\n",
    "for name in cusip:\n",
    "    file.write(str(name)+'\\n')\n",
    "\n",
    "file.close()"
   ]
  },
  {
   "cell_type": "code",
   "execution_count": null,
   "metadata": {
    "collapsed": true
   },
   "outputs": [],
   "source": []
  }
 ],
 "metadata": {
  "kernelspec": {
   "display_name": "Python 3",
   "language": "python",
   "name": "python3"
  },
  "language_info": {
   "codemirror_mode": {
    "name": "ipython",
    "version": 3
   },
   "file_extension": ".py",
   "mimetype": "text/x-python",
   "name": "python",
   "nbconvert_exporter": "python",
   "pygments_lexer": "ipython3",
   "version": "3.5.2"
  }
 },
 "nbformat": 4,
 "nbformat_minor": 2
}
